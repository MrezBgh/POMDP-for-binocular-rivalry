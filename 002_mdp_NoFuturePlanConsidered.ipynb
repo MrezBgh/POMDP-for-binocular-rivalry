{
 "cells": [
  {
   "cell_type": "code",
   "execution_count": 1,
   "metadata": {},
   "outputs": [
    {
     "data": {
      "text/plain": [
       "'Markov Decision Processes (Chapter 17)\\n\\nFirst we define an MDP, and the special case of a GridMDP, in which\\nstates are laid out in a 2-dimensional grid. We also represent a policy\\nas a dictionary of {state: action} pairs, and a Utility function as a\\ndictionary of {state: number} pairs. We then define the value_iteration\\nand policy_iteration algorithms.\\n'"
      ]
     },
     "execution_count": 1,
     "metadata": {},
     "output_type": "execute_result"
    }
   ],
   "source": [
    "\"\"\"Markov Decision Processes (Chapter 17)\n",
    "\n",
    "First we define an MDP, and the special case of a GridMDP, in which\n",
    "states are laid out in a 2-dimensional grid. We also represent a policy\n",
    "as a dictionary of {state: action} pairs, and a Utility function as a\n",
    "dictionary of {state: number} pairs. We then define the value_iteration\n",
    "and policy_iteration algorithms.\n",
    "\"\"\""
   ]
  },
  {
   "cell_type": "code",
   "execution_count": null,
   "metadata": {},
   "outputs": [],
   "source": []
  },
  {
   "cell_type": "code",
   "execution_count": 2,
   "metadata": {},
   "outputs": [],
   "source": [
    "import random\n",
    "from collections import defaultdict\n",
    "from scipy.stats import norm\n",
    "import numpy as np\n",
    "import pytest\n",
    "from utils import vector_add, orientations, turn_right, turn_left\n",
    "from math import isclose\n",
    "import matplotlib.pyplot as plt"
   ]
  },
  {
   "cell_type": "code",
   "execution_count": 3,
   "metadata": {},
   "outputs": [],
   "source": [
    "# @title Plotting Functions\n",
    "\n",
    "def plot_fish(fish_state, ax=None, show=True):\n",
    "  \"\"\"\n",
    "  Plot the fish dynamics (states across time)\n",
    "  \"\"\"\n",
    "  T = len(fish_state)\n",
    "\n",
    "  offset = 3\n",
    "\n",
    "  if not ax:\n",
    "    fig, ax = plt.subplots(1, 1, figsize=(12, 3.5))\n",
    "\n",
    "  x = np.arange(0, T, 1)\n",
    "  y = offset * (fish_state*2 - 1)\n",
    "\n",
    "  ax.plot(y, color='cornflowerblue', markersize=10, linewidth=3.0, zorder=0)\n",
    "  ax.fill_between(x, y, color='cornflowerblue', alpha=.3)\n",
    "\n",
    "  ax.set_xlabel('time')\n",
    "  ax.set_ylabel('Chosen location')\n",
    "\n",
    "  ax.set_xlim([0, T])\n",
    "  ax.set_xticks([])\n",
    "  ax.xaxis.set_label_coords(1.05, .54)\n",
    "\n",
    "  ax.set_ylim([-(offset+.5), offset+.5])\n",
    "  ax.set_yticks([-offset, offset])\n",
    "  ax.set_yticklabels(['right', 'left'])\n",
    "\n",
    "  ax.spines['bottom'].set_position('center')\n",
    "  if show:\n",
    "    plt.show()\n",
    "\n",
    "\n",
    "def plot_measurement(measurement, ax=None, show=True):\n",
    "  \"\"\"\n",
    "  Plot the measurements\n",
    "  \"\"\"\n",
    "  T = len(measurement)\n",
    "\n",
    "  rel_pos = 3\n",
    "  red_y = []\n",
    "  blue_y = []\n",
    "  for idx, value in enumerate(measurement):\n",
    "    if value == 0:\n",
    "      blue_y.append([idx, -rel_pos])\n",
    "    else:\n",
    "      red_y.append([idx, rel_pos])\n",
    "\n",
    "  red_y = np.asarray(red_y)\n",
    "  blue_y = np.asarray(blue_y)\n",
    "\n",
    "  if not ax:\n",
    "    fig, ax = plt.subplots(1, 1, figsize=(12, 3.5))\n",
    "\n",
    "  if len(red_y) > 0:\n",
    "    ax.plot(red_y[:, 0], red_y[:, 1], '*', markersize=8, color='crimson')\n",
    "\n",
    "  if len(blue_y) > 0:\n",
    "    ax.plot(blue_y[:, 0], blue_y[:, 1], '*', markersize=8, color='royalblue')\n",
    "\n",
    "  ax.set_xlabel('time', fontsize=18)\n",
    "  ax.set_ylabel('Caught fish?')\n",
    "\n",
    "  ax.set_xlim([0, T])\n",
    "  ax.set_xticks([])\n",
    "  ax.xaxis.set_label_coords(1.05, .54)\n",
    "\n",
    "  ax.set_ylim([-rel_pos - .5, rel_pos + .5])\n",
    "  ax.set_yticks([-rel_pos, rel_pos])\n",
    "  ax.set_yticklabels(['no', 'yes!'])\n",
    "\n",
    "  ax.spines['bottom'].set_position('center')\n",
    "  if show:\n",
    "    plt.show()\n",
    "\n",
    "\n",
    "def plot_act_loc(loc, act, ax_loc=None, show=True):\n",
    "  \"\"\"\n",
    "  Plot the action and location of T time points\n",
    "  \"\"\"\n",
    "  T = len(act)\n",
    "\n",
    "  if not ax_loc:\n",
    "    fig, ax_loc = plt.subplots(1, 1, figsize=(12, 2.5))\n",
    "\n",
    "  loc = loc*2 - 1\n",
    "  act_down = []\n",
    "  act_up = []\n",
    "  for t in range(1, T):\n",
    "    if loc[t-1] == -1 and loc[t] == 1:\n",
    "      act_up.append([t - 0.5, 0])\n",
    "    if loc[t-1] == 1 and loc[t] == -1:\n",
    "      act_down.append([t - 0.5, 0])\n",
    "\n",
    "  act_down = np.array(act_down)\n",
    "  act_up = np.array(act_up)\n",
    "\n",
    "  ax_loc.plot(loc, 'g.-', markersize=8, linewidth=5)\n",
    "\n",
    "  if len(act_down) > 0:\n",
    "    ax_loc.plot(act_down[:, 0], act_down[:, 1], 'rv', markersize=18, zorder=10, label='switch')\n",
    "\n",
    "  if len(act_up) > 0:\n",
    "    ax_loc.plot(act_up[:, 0], act_up[:, 1], 'r^', markersize=18, zorder=10)\n",
    "\n",
    "  ax_loc.set_xlabel('time')\n",
    "  ax_loc.set_ylabel('Your state')\n",
    "\n",
    "  ax_loc.set_xlim([0, T])\n",
    "  ax_loc.set_xticks([])\n",
    "  ax_loc.xaxis.set_label_coords(1.05, .54)\n",
    "\n",
    "  if len(act_down) > 0:\n",
    "    ax_loc.legend(loc=\"upper right\")\n",
    "  elif len(act_down) == 0 and len(act_up) > 0:\n",
    "    ax_loc.plot(act_up[:, 0], act_up[:, 1], 'r^', markersize=18, zorder=10, label='switch')\n",
    "    ax_loc.legend(loc=\"upper right\")\n",
    "\n",
    "  ax_loc.set_ylim([-1.1, 1.1])\n",
    "  ax_loc.set_yticks([-1, 1])\n",
    "\n",
    "  ax_loc.tick_params(axis='both', which='major')\n",
    "  ax_loc.set_yticklabels(['left', 'right'])\n",
    "\n",
    "  ax_loc.spines['bottom'].set_position('center')\n",
    "\n",
    "  if show:\n",
    "    plt.show()\n",
    "\n",
    "\n",
    "def plot_belief(belief, ax1=None, choose_policy=None, show=True):\n",
    "  \"\"\"\n",
    "  Plot the belief dynamics of T time points\n",
    "  \"\"\"\n",
    "\n",
    "  T = belief.shape[1]\n",
    "\n",
    "  if not ax1:\n",
    "      fig, ax1 = plt.subplots(1, 1, figsize=(12, 2.5))\n",
    "\n",
    "  ax1.plot(belief[1, :], color='midnightblue', markersize=10, linewidth=3.0)\n",
    "\n",
    "  ax1.set_xlabel('time')\n",
    "  ax1.set_ylabel('Belief (right)')\n",
    "\n",
    "  ax1.set_xlim([0, T])\n",
    "  ax1.set_xticks([])\n",
    "  ax1.xaxis.set_label_coords(1.05, 0.05)\n",
    "\n",
    "  ax1.set_yticks([0, 1])\n",
    "  ax1.set_ylim([0, 1.1])\n",
    "\n",
    "  labels = [item.get_text() for item in ax1.get_yticklabels()]\n",
    "  ax1.set_yticklabels(['    0', '    1'])\n",
    "\n",
    "  \"\"\"\n",
    "  if choose_policy == \"threshold\":\n",
    "    ax2 = ax1.twinx()\n",
    "    ax2.plot(time_range, threshold * np.ones(time_range.shape), 'r--')\n",
    "    ax2.plot(time_range, (1 - threshold) * np.ones(time_range.shape), 'c--')\n",
    "    ax2.set_yticks([threshold, 1 - threshold])\n",
    "    ax2.set_ylim([0, 1.1])\n",
    "    ax2.tick_params(axis='both', which='major', labelsize=18)\n",
    "    labels = [item.get_text() for item in ax2.get_yticklabels()]\n",
    "    labels[0] = 'threshold to switch \\n from left to right'\n",
    "    labels[-1] = 'threshold to switch \\n from right to left'\n",
    "    ax2.set_yticklabels(labels)\n",
    "  \"\"\"\n",
    "  if show:\n",
    "    plt.show()\n",
    "\n",
    "\n",
    "def plot_dynamics(belief, loc, act, meas, fish_state, choose_policy):\n",
    "  \"\"\"\n",
    "  Plot the dynamics of T time points\n",
    "  \"\"\"\n",
    "  if choose_policy == 'threshold':\n",
    "    fig, [ax0, ax_bel, ax_loc, ax1] = plt.subplots(4, 1, figsize=(12, 9))\n",
    "    plot_fish(fish_state, ax=ax0, show=False)\n",
    "    plot_belief(belief, ax1=ax_bel, show=False)\n",
    "    plot_measurement(meas, ax=ax1, show=False)\n",
    "    plot_act_loc(loc, act, ax_loc=ax_loc)\n",
    "  else:\n",
    "    fig, [ax0, ax_bel, ax1] = plt.subplots(3, 1, figsize=(12, 7))\n",
    "    plot_fish(fish_state, ax=ax0, show=False)\n",
    "    plot_belief(belief, ax1=ax_bel, show=False)\n",
    "    plot_measurement(meas, ax=ax1, show=False)\n",
    "\n",
    "  plt.tight_layout()\n",
    "  plt.show()\n",
    "\n",
    "\n",
    "def belief_histogram(belief, bins=100):\n",
    "  \"\"\"\n",
    "  Plot the histogram of belief states\n",
    "  \"\"\"\n",
    "  fig, ax = plt.subplots(1, 1, figsize=(8, 6))\n",
    "  ax.hist(belief, bins)\n",
    "  ax.set_xlabel('belief', fontsize=18)\n",
    "  ax.set_ylabel('count', fontsize=18)\n",
    "  plt.show()\n",
    "\n",
    "\n",
    "def plot_value_threshold(threshold_array, value_array):\n",
    "  \"\"\"\n",
    "  Helper function to plot the value function and threshold\n",
    "  \"\"\"\n",
    "  yrange = np.max(value_array) - np.min(value_array)\n",
    "  star_loc = np.argmax(value_array)\n",
    "\n",
    "  fig_, ax = plt.subplots(1, 1, figsize=(8, 6))\n",
    "  ax.plot(threshold_array, value_array, 'b')\n",
    "  ax.vlines(threshold_array[star_loc],\n",
    "            min(value_array) - yrange * .1, max(value_array),\n",
    "            colors='red', ls='--')\n",
    "  ax.plot(threshold_array[star_loc],\n",
    "          value_array[star_loc],\n",
    "          '*', color='crimson',\n",
    "          markersize=20)\n",
    "\n",
    "  ax.set_ylim([np.min(value_array) - yrange * .1,\n",
    "               np.max(value_array) + yrange * .1])\n",
    "  ax.set_title(f'threshold vs value with switching cost c = {cost_sw:.2f}',\n",
    "               fontsize=20)\n",
    "  ax.set_xlabel('threshold', fontsize=16)\n",
    "  ax.set_ylabel('value', fontsize=16)\n",
    "  plt.show()"
   ]
  },
  {
   "cell_type": "code",
   "execution_count": 4,
   "metadata": {},
   "outputs": [],
   "source": [
    "class MDP:\n",
    "\n",
    "    \"\"\"A Markov Decision Process, defined by an initial state, transition model,\n",
    "    and reward function. We also keep track of a gamma value, for use by\n",
    "    algorithms. The transition model is represented somewhat differently from\n",
    "    the text. Instead of P(s' | s, a) being a probability number for each\n",
    "    state/state/action triplet, we instead have T(s, a) return a\n",
    "    list of (p, s') pairs. We also keep track of the possible states,\n",
    "    terminal states, and actions for each state. [page 646]\"\"\"\n",
    "\n",
    "    def __init__(self, init, actlist, terminals, transitions = {}, reward = None, states=None, gamma=.9):\n",
    "        if not (0 < gamma <= 1):\n",
    "            raise ValueError(\"An MDP must have 0 < gamma <= 1\")\n",
    "\n",
    "        if states:\n",
    "            self.states = states\n",
    "        else:\n",
    "            ## collect states from transitions table\n",
    "            self.states = self.get_states_from_transitions(transitions)\n",
    "            \n",
    "        \n",
    "        self.init = init\n",
    "        \n",
    "        if isinstance(actlist, list):\n",
    "            ## if actlist is a list, all states have the same actions\n",
    "            self.actlist = actlist\n",
    "        elif isinstance(actlist, dict):\n",
    "            ## if actlist is a dict, different actions for each state\n",
    "            self.actlist = actlist\n",
    "        \n",
    "        self.terminals = terminals\n",
    "        self.transitions = transitions\n",
    "        if self.transitions == {}:\n",
    "            print(\"Warning: Transition table is empty.\")\n",
    "        self.gamma = gamma\n",
    "        if reward:\n",
    "            self.reward = reward\n",
    "        else:\n",
    "            self.reward = {s : 0 for s in self.states}\n",
    "        #self.check_consistency()\n",
    "\n",
    "    def R(self, state):\n",
    "        \"\"\"Return a numeric reward for this state.\"\"\"\n",
    "        return self.reward[state]\n",
    "\n",
    "    def T(self, state, action):\n",
    "        \"\"\"Transition model. From a state and an action, return a list\n",
    "        of (probability, result-state) pairs.\"\"\"\n",
    "        if(self.transitions == {}):\n",
    "            raise ValueError(\"Transition model is missing\")\n",
    "        else:\n",
    "            return self.transitions[state][action]\n",
    "\n",
    "    def actions(self, state):\n",
    "        \"\"\"Set of actions that can be performed in this state. By default, a\n",
    "        fixed list of actions, except for terminal states. Override this\n",
    "        method if you need to specialize by state.\"\"\"\n",
    "        if state in self.terminals:\n",
    "            return [None]\n",
    "        else:\n",
    "            return self.actlist\n",
    "\n",
    "    def get_states_from_transitions(self, transitions):\n",
    "        if isinstance(transitions, dict):\n",
    "            s1 = set(transitions.keys())\n",
    "            s2 = set([tr[1] for actions in transitions.values() \n",
    "                              for effects in actions.values() for tr in effects])\n",
    "            return s1.union(s2)\n",
    "        else:\n",
    "            print('Could not retrieve states from transitions')\n",
    "            return None\n",
    "\n",
    "    def check_consistency(self):\n",
    "        # check that all states in transitions are valid\n",
    "        assert set(self.states) == self.get_states_from_transitions(self.transitions)\n",
    "        # check that init is a valid state\n",
    "        assert self.init in self.states\n",
    "        # check reward for each state\n",
    "        #assert set(self.reward.keys()) == set(self.states)\n",
    "        assert set(self.reward.keys()) == set(self.states)\n",
    "        # check that all terminals are valid states\n",
    "        assert all([t in self.states for t in self.terminals])\n",
    "        # check that probability distributions for all actions sum to 1\n",
    "        for s1, actions in self.transitions.items():\n",
    "            for a in actions.keys():\n",
    "                s = 0\n",
    "                for o in actions[a]:\n",
    "                    s += o[0]\n",
    "                assert abs(s - 1) < 0.001"
   ]
  },
  {
   "cell_type": "code",
   "execution_count": 5,
   "metadata": {},
   "outputs": [],
   "source": [
    "\n",
    "# Transition Matrix as nested dict. State -> Actions in state -> List of (Probability, State) tuples\n",
    "t = {\n",
    "    \"A\": {\n",
    "            \"X\": [(0.3, \"A\"), (0.7, \"B\")],\n",
    "            \"Y\": [(1.0, \"A\")]\n",
    "         },\n",
    "    \"B\": {\n",
    "            \"X\": {(0.8, \"End\"), (0.2, \"B\")},\n",
    "            \"Y\": {(1.0, \"A\")}\n",
    "         },\n",
    "    \"End\": {}\n",
    "}\n",
    "\n",
    "init = \"A\"\n",
    "\n",
    "terminals = [\"End\"]\n",
    "\n",
    "rewards = {\n",
    "    \"A\": 5,\n",
    "    \"B\": -10,\n",
    "    \"End\": 100\n",
    "}"
   ]
  },
  {
   "cell_type": "code",
   "execution_count": 6,
   "metadata": {},
   "outputs": [],
   "source": [
    "class CustomMDP(MDP):\n",
    "    def __init__(self, init, terminals, transition_matrix, reward = None, gamma=.9):\n",
    "        # All possible actions.\n",
    "        actlist = []\n",
    "        for state in transition_matrix.keys():\n",
    "            actlist.extend(transition_matrix[state])\n",
    "        actlist = list(set(actlist))\n",
    "        MDP.__init__(self, init, actlist, terminals, transition_matrix, reward, gamma=gamma)\n",
    "\n",
    "    def T(self, state, action):\n",
    "        if action is None:\n",
    "            return [(0.0, state)]\n",
    "        else: \n",
    "            return self.t[state][action]"
   ]
  },
  {
   "cell_type": "code",
   "execution_count": 7,
   "metadata": {},
   "outputs": [],
   "source": [
    "our_mdp = CustomMDP(init, terminals, t, rewards, gamma=.9)"
   ]
  },
  {
   "cell_type": "code",
   "execution_count": 8,
   "metadata": {},
   "outputs": [],
   "source": [
    "class GridMDP(MDP):\n",
    "    \"\"\"A two-dimensional grid MDP, as in [Figure 17.1]. All you have to do is\n",
    "    specify the grid as a list of lists of rewards; use None for an obstacle\n",
    "    (unreachable state). Also, you should specify the terminal states.\n",
    "    An action is an (x, y) unit vector; e.g. (1, 0) means move east.\"\"\"\n",
    "\n",
    "    def __init__(self, grid, terminals, init=(0, 0), gamma=.9):\n",
    "        grid.reverse()  # because we want row 0 on bottom, not on top\n",
    "        reward = {}\n",
    "        states = set()\n",
    "        self.rows = len(grid)\n",
    "        self.cols = len(grid[0])\n",
    "        self.grid = grid\n",
    "        for x in range(self.cols):\n",
    "            for y in range(self.rows):\n",
    "                if grid[y][x]:\n",
    "                    states.add((x, y))\n",
    "                    reward[(x, y)] = grid[y][x]\n",
    "        self.states = states\n",
    "        actlist = orientations\n",
    "        transitions = {}\n",
    "        for s in states:\n",
    "            transitions[s] = {}\n",
    "            for a in actlist:\n",
    "                transitions[s][a] = self.calculate_T(s, a)\n",
    "        MDP.__init__(self, init, actlist=actlist,\n",
    "                     terminals=terminals, transitions=transitions,\n",
    "                     reward=reward, states=states, gamma=gamma)\n",
    "    def calculate_T(self, state, action):\n",
    "        if action:\n",
    "            return [(0.8, self.go(state, action)),\n",
    "                    (0.1, self.go(state, turn_right(action))),\n",
    "                    (0.1, self.go(state, turn_left(action)))]\n",
    "        else:\n",
    "            return [(0.0, state)]\n",
    "\n",
    "    def T(self, state, action):\n",
    "        return self.transitions[state][action] if action else [(0.0, state)]\n",
    "\n",
    "    def go(self, state, direction):\n",
    "        \"\"\"Return the state that results from going in this direction.\"\"\"\n",
    "\n",
    "        state1 = vector_add(state, direction)\n",
    "        return state1 if state1 in self.states else state\n",
    "\n",
    "    def to_grid(self, mapping):\n",
    "        \"\"\"Convert a mapping from (x, y) to v into a [[..., v, ...]] grid.\"\"\"\n",
    "\n",
    "        return list(reversed([[mapping.get((x, y), None)\n",
    "                               for x in range(self.cols)]\n",
    "                              for y in range(self.rows)]))\n",
    "\n",
    "    def to_arrows(self, policy):\n",
    "        chars = {(1, 0): '>', (0, 1): '^', (-1, 0): '<', (0, -1): 'v', None: '.'}\n",
    "        return self.to_grid({s: chars[a] for (s, a) in policy.items()})\n",
    "        "
   ]
  },
  {
   "cell_type": "code",
   "execution_count": null,
   "metadata": {},
   "outputs": [],
   "source": [
    "\n"
   ]
  },
  {
   "cell_type": "code",
   "execution_count": 9,
   "metadata": {},
   "outputs": [],
   "source": [
    "def value_iteration(mdp, epsilon=0.001):\n",
    "    \"\"\"Solving an MDP by value iteration. [Figure 17.4]\"\"\"\n",
    "\n",
    "    U1 = {s: 0 for s in mdp.states}\n",
    "    R, T, gamma = mdp.R, mdp.T, mdp.gamma\n",
    "    print(T)\n",
    "    while True:\n",
    "        U = U1.copy()\n",
    "        delta = 0\n",
    "        for s in mdp.states:\n",
    "            \n",
    "            U1[s] = R(s) + gamma * max(sum(p * U[s1] for (p, s1) in T(s, a))\n",
    "                                       for a in mdp.actions(s))\n",
    "            delta = max(delta, abs(U1[s] - U[s]))\n",
    "        if delta <= epsilon * (1 - gamma) / gamma:\n",
    "            return U\n",
    "\n",
    "\n",
    "def best_policy(mdp, U):\n",
    "    \"\"\"Given an MDP and a utility function U, determine the best policy,\n",
    "    as a mapping from state to action. [Equation 17.4]\"\"\"\n",
    "\n",
    "    pi = {}\n",
    "    for s in mdp.states:\n",
    "        pi[s] = max(mdp.actions(s), key=lambda a: expected_utility(a, s, U, mdp))\n",
    "    return pi\n",
    "\n",
    "\n",
    "def expected_utility(a, s, U, mdp):\n",
    "    \"\"\"The expected utility of doing a in state s, according to the MDP and U.\"\"\"\n",
    "\n",
    "    return sum(p * U[s1] for (p, s1) in mdp.T(s, a))\n",
    "\n",
    "\n",
    "# ______________________________________________________________________________\n",
    "\n",
    "\n",
    "def policy_iteration(mdp):\n",
    "    \"\"\"Solve an MDP by policy iteration [Figure 17.7]\"\"\"\n",
    "\n",
    "    U = {s: 0 for s in mdp.states}\n",
    "    pi = {s: random.choice(mdp.actions(s)) for s in mdp.states}\n",
    "    while True:\n",
    "        U = policy_evaluation(pi, U, mdp)\n",
    "        unchanged = True\n",
    "        for s in mdp.states:\n",
    "            a = max(mdp.actions(s), key=lambda a: expected_utility(a, s, U, mdp))\n",
    "            if a != pi[s]:\n",
    "                pi[s] = a\n",
    "                unchanged = False\n",
    "        if unchanged:\n",
    "            return pi\n",
    "\n",
    "\n",
    "def policy_evaluation(pi, U, mdp, k=20):\n",
    "    \"\"\"Return an updated utility mapping U from each state in the MDP to its\n",
    "    utility, using an approximation (modified policy iteration).\"\"\"\n",
    "\n",
    "    R, T, gamma = mdp.R, mdp.T, mdp.gamma\n",
    "    for i in range(k):\n",
    "        for s in mdp.states:\n",
    "            U[s] = R(s) + gamma * sum(p * U[s1] for (p, s1) in T(s, pi[s]))\n",
    "    return U\n"
   ]
  },
  {
   "cell_type": "code",
   "execution_count": 60,
   "metadata": {},
   "outputs": [],
   "source": [
    "class POMDP(MDP):\n",
    "    \"\"\"A Partially Observable Markov Decision Process, defined by\n",
    "    a transition model P(s'|s,a), actions A(s), a reward function R(s),\n",
    "    and a sensor model P(e|s). We also keep track of a gamma value,\n",
    "    for use by algorithms. The transition and the sensor models\n",
    "    are defined as matrices. We also keep track of the possible states\n",
    "    and actions for each state. [Page 659].\"\"\"\n",
    "\n",
    "    def __init__(self, actions, transitions=None, rewards=None, states=None, p_stay = 0.95, sigmaAttention = np.array([.1, .02]), gamma=0.95, Initial_Loc = 1):\n",
    "        \"\"\"Initialize variables of the pomdp\"\"\"\n",
    "        # 0: left state and choosing left as an action and vice versa for 1\n",
    "        if not (0 <= gamma <= 1):\n",
    "            raise ValueError('A POMDP must have 0 < gamma <= 1')\n",
    "        #p_stay and sigma attention are related to updating the belief \n",
    "        self.p_stay = p_stay\n",
    "        self.sigmaAttention = sigmaAttention\n",
    "        self.states = states\n",
    "        self.actions = actions\n",
    "        self.rewards = rewards\n",
    "        # transition model cannot be undefined\n",
    "        # transitions = p_stay\n",
    "        self.transitions = transitions\n",
    "        #t_prob is (2,2,2) 3d matrix. First dimension determines the action choice. Second dimension determines the state the agent was in.\n",
    "        self.t_prob = np.array([[[self.transitions,1-self.transitions],[self.transitions,1-self.transitions]],[[self.transitions,1-self.transitions],[self.transitions,1-self.transitions]]])\n",
    "        # \"\"\"if not self.t_prob:\n",
    "        # print('Warning: Transition model is undefined')\"\"\"\n",
    "\n",
    "        '''# sensor model cannot be undefined\n",
    "        # self.e_prob = evidences or {}\n",
    "        # if not self.e_prob:\n",
    "        #     print('Warning: Sensor model is undefined')'''\n",
    "\n",
    "        self.gamma = gamma\n",
    "    \n",
    "        #prev_state determines the previous action\n",
    "        self.prev_state = Initial_Loc\n",
    "        # history is a number that determines the number of same actions which are chosen consequently\n",
    "        self.history = 1\n",
    "        # These lists are defined to save previous variants\n",
    "        self.actlist = [Initial_Loc]\n",
    "        self.statelist = [Initial_Loc]\n",
    "        self.belieflist = []\n",
    "        self.rewardlist = [[],[]]\n",
    "        # Initial reward (It is randomy assigned)\n",
    "        # The dimensions of the reward array determine from which state the agent goes to which state\n",
    "        self.reward_arr = np.array([[2,0],[0,2]],dtype=float)\n",
    "        \n",
    "        rand_ = np.random.random()\n",
    "        #Initialize the past belief \n",
    "        self.belief_past = rand_\n",
    "        self.belieflist = [self.belief_past]\n",
    "        self.e_prob = np.array([rand_,1-rand_])\n",
    "\n",
    "    # chooses the actions based on the maximum utility of the previous state \n",
    "    def selected_action(self, action : list):\n",
    "        act = action[int(self.prev_state)]\n",
    "        return act\n",
    "    \n",
    "    # Based on the chosen action and transition probabilities, it determines which state would be the next one which the agent will be placed\n",
    "    def last_state(self, action):\n",
    "        action = str(action)\n",
    "        opposite_action = str(abs(1-int(action)))\n",
    "        # print(self.prev_state)\n",
    "        # print(action)\n",
    "        state = np.random.choice([action,opposite_action],p=self.t_prob[int(action),int(self.prev_state)])\n",
    "        return state\n",
    "    \n",
    "    # updates the reward, it generates a (2,2) array (more explanation in reward_arr initialization)\n",
    "    def reward_set (self):\n",
    "\n",
    "        \"\"\"reward[0, t] = biasRewFactorLeft * rewDom * np.exp(-t_inSw/expts)\n",
    "            rewards = (biasRewFactorLeft, biasRewFactorRight, rewDom, rewSupp, expts)\n",
    "            rewards = (1,                   1,                  10,     2,      5)\"\"\"\n",
    "        biasRewFactorLeft, biasRewFactorRight, rewDom, rewSupp, expts = self.rewards\n",
    "        biasRewFactor = {'0' : biasRewFactorLeft, '1' : biasRewFactorRight}\n",
    "\n",
    "        self.reward_arr[0,0] = biasRewFactor[\"0\"] * rewDom * np.exp(-self.history/expts)\n",
    "        self.reward_arr[0,1] = rewSupp\n",
    "        self.reward_arr[1,0] = rewSupp\n",
    "        self.reward_arr[1,1] = biasRewFactor[\"1\"] * rewDom * np.exp(-self.history/expts)\n",
    "\n",
    "    def belief_update(self):\n",
    "        \n",
    "        opp_state = np.abs(1-int(self.prev_state))\n",
    "        state = int(self.prev_state)\n",
    "        state = 0\n",
    "        opp_state = 1\n",
    "        if state == 0:\n",
    "            sigma1 = self.sigmaAttention[0] \n",
    "            sigma2 = self.sigmaAttention[1] \n",
    "        elif state == 1:\n",
    "            sigma1 = self.sigmaAttention[1] \n",
    "            sigma2 = self.sigmaAttention[0]  \n",
    "        # evaluatuing belief_0\n",
    "        mu = state\n",
    "        obsVal = np.random.normal(mu, sigma1, 1)\n",
    "        obsProb = norm.pdf(obsVal, loc=mu, scale=sigma1)\n",
    "\n",
    "        belief_0 = (self.belief_past *  self.p_stay  + (1 - self.belief_past) * (1 -  self.p_stay)) * obsProb\n",
    "\n",
    "        # evaluatuing belief_1\n",
    "        mu = opp_state\n",
    "        obsVal = np.random.normal(mu, sigma2, 1)\n",
    "        obsProb = norm.pdf(obsVal, loc=mu, scale=sigma2)\n",
    "\n",
    "        belief_1 = ((1-self.belief_past) *  self.p_stay  +  self.belief_past * (1 -  self.p_stay)) * obsProb\n",
    "\n",
    "        # normalizing beliefs\n",
    "        norm_belief_0 = belief_0/(belief_0 + belief_1)\n",
    "        norm_belief_1 = 1 - norm_belief_0\n",
    "        norm_belief_0 = float(norm_belief_0)\n",
    "        norm_belief_1 = float(norm_belief_1)\n",
    "        # belief_arr determines the agents probability of being in each state \n",
    "        belief_arr = np.array([norm_belief_0,norm_belief_1])\n",
    "\n",
    "    \n",
    "        self.belief_past = norm_belief_0\n",
    "        self.e_prob = belief_arr\n",
    "        \n",
    "    \n",
    "    #at the end of each point, updates the variants\n",
    "    def update(self, st, action):\n",
    "        self.rewardlist[0].append(self.reward_arr[self.prev_state,0])\n",
    "        self.rewardlist[1].append(self.reward_arr[self.prev_state,1])\n",
    "        if st != self.prev_state:\n",
    "            self.prev_state = st\n",
    "            self.history = 1\n",
    "        elif st == self.prev_state:\n",
    "            self.prev_state = st\n",
    "            self.history += 1\n",
    "        self.actlist.append(action)\n",
    "        self.statelist.append(st)\n",
    "        self.belieflist.append(self.belief_past)\n",
    "\n",
    "        \n",
    "        \n",
    "\n",
    "    def remove_dominated_plans(self, input_values):\n",
    "        \"\"\"\n",
    "        Remove dominated plans.\n",
    "        This method finds all the lines contributing to the\n",
    "        upper surface and removes those which don't.\n",
    "        \"\"\"\n",
    "\n",
    "        values = [val for action in input_values for val in input_values[action]]\n",
    "        values.sort(key=lambda x: x[0], reverse=True)\n",
    "\n",
    "        best = [values[0]]\n",
    "        y1_max = max(val[1] for val in values)\n",
    "        tgt = values[0]\n",
    "        prev_b = 0\n",
    "        prev_ix = 0\n",
    "        while tgt[1] != y1_max:\n",
    "            min_b = 1\n",
    "            min_ix = 0\n",
    "            for i in range(prev_ix + 1, len(values)):\n",
    "                if values[i][0] - tgt[0] + tgt[1] - values[i][1] != 0:\n",
    "                    trans_b = (values[i][0] - tgt[0]) / (values[i][0] - tgt[0] + tgt[1] - values[i][1])\n",
    "                    if 0 <= trans_b <= 1 and trans_b > prev_b and trans_b < min_b:\n",
    "                        min_b = trans_b\n",
    "                        min_ix = i\n",
    "            prev_b = min_b\n",
    "            prev_ix = min_ix\n",
    "            tgt = values[min_ix]\n",
    "            best.append(tgt)\n",
    "\n",
    "        return self.generate_mapping(best, input_values)\n",
    "\n",
    "    def remove_dominated_plans_fast(self, input_values):\n",
    "        \"\"\"\n",
    "        Remove dominated plans using approximations.\n",
    "        Resamples the upper boundary at intervals of 100 and\n",
    "        finds the maximum values at these points.\n",
    "        \"\"\"\n",
    "\n",
    "        values = [val for action in input_values for val in input_values[action]]\n",
    "        values.sort(key=lambda x: x[0], reverse=True)\n",
    "\n",
    "        best = []\n",
    "        sr = 100\n",
    "        for i in range(sr + 1):\n",
    "            x = i / float(sr)\n",
    "            maximum = (values[0][1] - values[0][0]) * x + values[0][0]\n",
    "            tgt = values[0]\n",
    "            for value in values:\n",
    "                val = (value[1] - value[0]) * x + value[0]\n",
    "                if val > maximum:\n",
    "                    maximum = val\n",
    "                    tgt = value\n",
    "\n",
    "            if all(any(tgt != v) for v in best):\n",
    "                best.append(np.array(tgt))\n",
    "\n",
    "        return self.generate_mapping(best, input_values)\n",
    "\n",
    "    def generate_mapping(self, best, input_values):\n",
    "        \"\"\"Generate mappings after removing dominated plans\"\"\"\n",
    "\n",
    "        mapping = defaultdict(list)\n",
    "        for value in best:\n",
    "            for action in input_values:\n",
    "                if any(all(value == v) for v in input_values[action]):\n",
    "                    mapping[action].append(value)\n",
    "\n",
    "        return mapping\n",
    "\n",
    "    def max_difference(self, U1, U2):\n",
    "        \"\"\"Find maximum difference between two utility mappings\"\"\"\n",
    "\n",
    "        for k, v in U1.items():\n",
    "            sum1 = 0\n",
    "            for element in U1[k]:\n",
    "                sum1 += sum(element)\n",
    "            sum2 = 0\n",
    "            for element in U2[k]:\n",
    "                sum2 += sum(element)\n",
    "        return abs(sum1 - sum2)\n"
   ]
  },
  {
   "cell_type": "code",
   "execution_count": 61,
   "metadata": {},
   "outputs": [],
   "source": [
    "# class Matrix:\n",
    "#     \"\"\"Matrix operations class\"\"\"\n",
    "\n",
    "#     @staticmethod\n",
    "#     def add(A, B):\n",
    "#         \"\"\"Add two matrices A and B\"\"\"\n",
    "\n",
    "#         res = []\n",
    "#         for i in range(len(A)):\n",
    "#             row = []\n",
    "#             for j in range(len(A[0])):\n",
    "#                 row.append(A[i][j] + B[i][j])\n",
    "#             res.append(row)\n",
    "#         return res\n",
    "\n",
    "#     @staticmethod\n",
    "    # def scalar_multiply(a, B):\n",
    "    #     \"\"\"Multiply scalar a to matrix B\"\"\"\n",
    "\n",
    "    #     for i in range(len(B)):\n",
    "    #         for j in range(len(B[0])):\n",
    "    #             B[i][j] = a * B[i][j]\n",
    "    #     return B\n",
    "\n",
    "#     @staticmethod\n",
    "#     def multiply(A, B):\n",
    "#         \"\"\"Multiply two matrices A and B element-wise\"\"\"\n",
    "\n",
    "#         matrix = []\n",
    "#         for i in range(len(B)):\n",
    "#             row = []\n",
    "#             for j in range(len(B[0])):\n",
    "#                 row.append(B[i][j] * A[j][i])\n",
    "#             matrix.append(row)\n",
    "\n",
    "#         return matrix\n",
    "\n",
    "#     @staticmethod\n",
    "#     def matmul(A, B):\n",
    "#         \"\"\"Inner-product of two matrices\"\"\"\n",
    "\n",
    "#         return [[sum(ele_a * ele_b for ele_a, ele_b in zip(row_a, col_b)) for col_b in list(zip(*B))] for row_a in A]\n",
    "\n",
    "#     @staticmethod\n",
    "#     def transpose(A):\n",
    "#         \"\"\"Transpose a matrix\"\"\"\n",
    "\n",
    "#         return [list(i) for i in zip(*A)]"
   ]
  },
  {
   "cell_type": "code",
   "execution_count": 62,
   "metadata": {},
   "outputs": [],
   "source": [
    "def scalar_multiply(a, B):\n",
    "    \"\"\"Multiply scalar a to matrix B\"\"\"\n",
    "\n",
    "    for i in range(len(B)):\n",
    "        for j in range(len(B[0])):\n",
    "            B[i][j] = a * B[i][j]\n",
    "    return B"
   ]
  },
  {
   "cell_type": "code",
   "execution_count": 63,
   "metadata": {},
   "outputs": [
    {
     "data": {
      "text/plain": [
       "'POMDP value iteration comes in a cell below'"
      ]
     },
     "execution_count": 63,
     "metadata": {},
     "output_type": "execute_result"
    }
   ],
   "source": [
    "'''POMDP value iteration comes in a cell below'''\n",
    "\n",
    "\n",
    "\n",
    "# def pomdp_value_iteration(pomdp, epsilon=0.1, Initial_loc=1):\n",
    "#     \"\"\"Solving a POMDP by value iteration.\"\"\"\n",
    "\n",
    "#     pomdp.update(Initial_loc,Initial_loc)\n",
    "#     U = {'': [[0] * len(pomdp.states)]}\n",
    "#     count = 0\n",
    "#     while True:\n",
    "#         count += 1\n",
    "#         prev_U = U\n",
    "        \n",
    "#         values = [val for action in U for val in U[action]]\n",
    "#         # print('val is: ',values , '\\n')\n",
    "#         value_matxs = []\n",
    "#         for i in values:\n",
    "#             for j in values:\n",
    "#                 value_matxs.append([i, j])\n",
    "#         print('matrixis : ', value_matxs)\n",
    "#         U1 = defaultdict(list)\n",
    "#         for action in pomdp.actions:\n",
    "#             for u in value_matxs:\n",
    "                \n",
    "#                 u1 = np.matmul(np.matmul(pomdp.t_prob[int(action)],\n",
    "#                                                  np.multiply(pomdp.e_prob[int(action)], np.transpose(u))),[[1], [1]])\n",
    "#                 print('t ', pomdp.t_prob[int(action)],'\\n')\n",
    "#                 print('e ',pomdp.e_prob[int(action)],'\\n')\n",
    "#                 print('trans u ',np.transpose(u),'\\n')\n",
    "#                 print('u ',u,'\\n')\n",
    "#                 print('u1 ',u1)\n",
    "#                 print(2*'\\n')\n",
    "#                 u1 = np.add((pomdp.gamma* np.transpose(u1)), [pomdp.rewards[int(action)]])\n",
    "#                 U1[action].append(u1[0])\n",
    "\n",
    "#         U = pomdp.remove_dominated_plans_fast(U1)\n",
    "#         action = [str(np.argmax(U['0'])),str(np.argmax(U['1']))]\n",
    "#         act = pomdp.selected_action(action)\n",
    "#         state = pomdp.last_state(act)\n",
    "#         pomdp.update(act,state)\n",
    "#         # replace with U = pomdp.remove_dominated_plans(U1) for accurate calculations\n",
    "\n",
    "#         if count > 10:\n",
    "#             if pomdp.max_difference(U, prev_U) < epsilon * (1 - pomdp.gamma) / pomdp.gamma:\n",
    "#                 return U"
   ]
  },
  {
   "cell_type": "code",
   "execution_count": 64,
   "metadata": {},
   "outputs": [
    {
     "data": {
      "text/plain": [
       "' POMDP test is provided in a cell below'"
      ]
     },
     "execution_count": 64,
     "metadata": {},
     "output_type": "execute_result"
    }
   ],
   "source": [
    "# random.seed(\"aima-python\")\n",
    "\n",
    "sequential_decision_environment_1 = GridMDP([[-0.1, -0.1, -0.1, +1],\n",
    "                                             [-0.1, None, -0.1, -1],\n",
    "                                             [-0.1, -0.1, -0.1, -0.1]],\n",
    "                                            terminals=[(3, 2), (3, 1)])\n",
    "\n",
    "sequential_decision_environment_2 = GridMDP([[-2, -2, -2, +1],\n",
    "                                             [-2, None, -2, -1],\n",
    "                                             [-2, -2, -2, -2]],\n",
    "                                            terminals=[(3, 2), (3, 1)])\n",
    "\n",
    "sequential_decision_environment_3 = GridMDP([[-1.0, -0.1, -0.1, -0.1, -0.1, 0.5],\n",
    "                                             [-0.1, None, None, -0.5, -0.1, -0.1],\n",
    "                                             [-0.1, None, 1.0, 3.0, None, -0.1],\n",
    "                                             [-0.1, -0.1, -0.1, None, None, -0.1],\n",
    "                                             [0.5, -0.1, -0.1, -0.1, -0.1, -1.0]],\n",
    "                                            terminals=[(2, 2), (3, 2), (0, 4), (5, 0)])\n",
    "\n",
    "\n",
    "def test_value_iteration():\n",
    "    assert value_iteration(sequential_decision_environment, .01) == {\n",
    "        (3, 2): 1.0, (3, 1): -1.0,\n",
    "        (3, 0): 0.12958868267972745, (0, 1): 0.39810203830605462,\n",
    "        (0, 2): 0.50928545646220924, (1, 0): 0.25348746162470537,\n",
    "        (0, 0): 0.29543540628363629, (1, 2): 0.64958064617168676,\n",
    "        (2, 0): 0.34461306281476806, (2, 1): 0.48643676237737926,\n",
    "        (2, 2): 0.79536093684710951}\n",
    "\n",
    "    assert value_iteration(sequential_decision_environment_1, .01) == {\n",
    "        (3, 2): 1.0, (3, 1): -1.0,\n",
    "        (3, 0): -0.0897388258468311, (0, 1): 0.146419707398967840,\n",
    "        (0, 2): 0.30596200514385086, (1, 0): 0.010092796415625799,\n",
    "        (0, 0): 0.00633408092008296, (1, 2): 0.507390193380827400,\n",
    "        (2, 0): 0.15072242145212010, (2, 1): 0.358309043654212570,\n",
    "        (2, 2): 0.71675493618997840}\n",
    "\n",
    "    assert value_iteration(sequential_decision_environment_2, .01) == {\n",
    "        (3, 2): 1.0, (3, 1): -1.0,\n",
    "        (3, 0): -3.5141584808407855, (0, 1): -7.8000009574737180,\n",
    "        (0, 2): -6.1064293596058830, (1, 0): -7.1012549580376760,\n",
    "        (0, 0): -8.5872244532783200, (1, 2): -3.9653547121245810,\n",
    "        (2, 0): -5.3099468802901630, (2, 1): -3.3543366255753995,\n",
    "        (2, 2): -1.7383376462930498}\n",
    "\n",
    "    assert value_iteration(sequential_decision_environment_3, .01) == {\n",
    "        (0, 0): 4.350592130345558, (0, 1): 3.640700980321895, (0, 2): 3.0734806370346943, (0, 3): 2.5754335063434937,\n",
    "        (0, 4): -1.0,\n",
    "        (1, 0): 3.640700980321895, (1, 1): 3.129579352304856, (1, 4): 2.0787517066719916,\n",
    "        (2, 0): 3.0259220379893352, (2, 1): 2.5926103577982897, (2, 2): 1.0, (2, 4): 2.507774181360808,\n",
    "        (3, 0): 2.5336747364500076, (3, 2): 3.0, (3, 3): 2.292172805400873, (3, 4): 2.996383110867515,\n",
    "        (4, 0): 2.1014575936349886, (4, 3): 3.1297590518608907, (4, 4): 3.6408806798779287,\n",
    "        (5, 0): -1.0, (5, 1): 2.5756132058995282, (5, 2): 3.0736603365907276, (5, 3): 3.6408806798779287,\n",
    "        (5, 4): 4.350771829901593}\n",
    "\n",
    "\n",
    "def test_policy_iteration():\n",
    "    assert policy_iteration(sequential_decision_environment) == {\n",
    "        (0, 0): (0, 1), (0, 1): (0, 1), (0, 2): (1, 0),\n",
    "        (1, 0): (1, 0), (1, 2): (1, 0), (2, 0): (0, 1),\n",
    "        (2, 1): (0, 1), (2, 2): (1, 0), (3, 0): (-1, 0),\n",
    "        (3, 1): None, (3, 2): None}\n",
    "\n",
    "    assert policy_iteration(sequential_decision_environment_1) == {\n",
    "        (0, 0): (0, 1), (0, 1): (0, 1), (0, 2): (1, 0),\n",
    "        (1, 0): (1, 0), (1, 2): (1, 0), (2, 0): (0, 1),\n",
    "        (2, 1): (0, 1), (2, 2): (1, 0), (3, 0): (-1, 0),\n",
    "        (3, 1): None, (3, 2): None}\n",
    "\n",
    "    assert policy_iteration(sequential_decision_environment_2) == {\n",
    "        (0, 0): (1, 0), (0, 1): (0, 1), (0, 2): (1, 0),\n",
    "        (1, 0): (1, 0), (1, 2): (1, 0), (2, 0): (1, 0),\n",
    "        (2, 1): (1, 0), (2, 2): (1, 0), (3, 0): (0, 1),\n",
    "        (3, 1): None, (3, 2): None}\n",
    "\n",
    "\n",
    "def test_best_policy():\n",
    "    pi = best_policy(sequential_decision_environment, value_iteration(sequential_decision_environment, .01))\n",
    "    assert sequential_decision_environment.to_arrows(pi) == [['>', '>', '>', '.'],\n",
    "                                                             ['^', None, '^', '.'],\n",
    "                                                             ['^', '>', '^', '<']]\n",
    "\n",
    "    pi_1 = best_policy(sequential_decision_environment_1, value_iteration(sequential_decision_environment_1, .01))\n",
    "    assert sequential_decision_environment_1.to_arrows(pi_1) == [['>', '>', '>', '.'],\n",
    "                                                                 ['^', None, '^', '.'],\n",
    "                                                                 ['^', '>', '^', '<']]\n",
    "\n",
    "    pi_2 = best_policy(sequential_decision_environment_2, value_iteration(sequential_decision_environment_2, .01))\n",
    "    assert sequential_decision_environment_2.to_arrows(pi_2) == [['>', '>', '>', '.'],\n",
    "                                                                 ['^', None, '>', '.'],\n",
    "                                                                 ['>', '>', '>', '^']]\n",
    "\n",
    "    pi_3 = best_policy(sequential_decision_environment_3, value_iteration(sequential_decision_environment_3, .01))\n",
    "    assert sequential_decision_environment_3.to_arrows(pi_3) == [['.', '>', '>', '>', '>', '>'],\n",
    "                                                                 ['v', None, None, '>', '>', '^'],\n",
    "                                                                 ['v', None, '.', '.', None, '^'],\n",
    "                                                                 ['v', '<', 'v', None, None, '^'],\n",
    "                                                                 ['<', '<', '<', '<', '<', '.']]\n",
    "\n",
    "\n",
    "def test_transition_model():\n",
    "    transition_model = {'a': {'plan1': [(0.2, 'a'), (0.3, 'b'), (0.3, 'c'), (0.2, 'd')],\n",
    "                              'plan2': [(0.4, 'a'), (0.15, 'b'), (0.45, 'c')],\n",
    "                              'plan3': [(0.2, 'a'), (0.5, 'b'), (0.3, 'c')],\n",
    "                              },\n",
    "                        'b': {'plan1': [(0.2, 'a'), (0.6, 'b'), (0.2, 'c'), (0.1, 'd')],\n",
    "                              'plan2': [(0.6, 'a'), (0.2, 'b'), (0.1, 'c'), (0.1, 'd')],\n",
    "                              'plan3': [(0.3, 'a'), (0.3, 'b'), (0.4, 'c')],\n",
    "                              },\n",
    "                        'c': {'plan1': [(0.3, 'a'), (0.5, 'b'), (0.1, 'c'), (0.1, 'd')],\n",
    "                              'plan2': [(0.5, 'a'), (0.3, 'b'), (0.1, 'c'), (0.1, 'd')],\n",
    "                              'plan3': [(0.1, 'a'), (0.3, 'b'), (0.1, 'c'), (0.5, 'd')],\n",
    "                              }}\n",
    "\n",
    "    mdp = MDP(init=\"a\", actlist={\"plan1\", \"plan2\", \"plan3\"}, terminals={\"d\"}, states={\"a\", \"b\", \"c\", \"d\"},\n",
    "              transitions=transition_model)\n",
    "\n",
    "    assert mdp.T(\"a\", \"plan3\") == [(0.2, 'a'), (0.5, 'b'), (0.3, 'c')]\n",
    "    assert mdp.T(\"b\", \"plan2\") == [(0.6, 'a'), (0.2, 'b'), (0.1, 'c'), (0.1, 'd')]\n",
    "    assert mdp.T(\"c\", \"plan1\") == [(0.3, 'a'), (0.5, 'b'), (0.1, 'c'), (0.1, 'd')]\n",
    "\n",
    "\n",
    "\n",
    "''' POMDP test is provided in a cell below'''\n",
    "\n",
    "\n",
    "# def test_pomdp_value_iteration():\n",
    "#     t_prob = [[[0.65, 0.35], [0.65, 0.35]], [[0.65, 0.35], [0.65, 0.35]]]\n",
    "#     e_prob = [[[0.5, 0.5], [0.5, 0.5]], [[0.5, 0.5], [0.5, 0.5]]]\n",
    "#     rewards = [[5, -10], [-20, 5]]\n",
    "\n",
    "#     gamma = 0.95\n",
    "#     actions = ('0', '1')\n",
    "#     states = ('a', 'b')\n",
    "\n",
    "#     pomdp = POMDP(actions, t_prob, e_prob, rewards, states, gamma)\n",
    "#     utility = pomdp_value_iteration(pomdp, epsilon=5)\n",
    "#     print(utility)\n",
    "#     for _, v in utility.items():\n",
    "#         sum_ = 0\n",
    "#         for element in v:\n",
    "#             print(element)\n",
    "#             sum_ += sum(element)\n",
    "#     print(sum_)\n",
    "#     assert -9.76 < sum_ < -9.70 or 246.5 < sum_ < 248.5 or 0 < sum_ < 1\n",
    "\n",
    "\n",
    "# def test_pomdp_value_iteration2():\n",
    "#     t_prob = [[[0.5, 0.5], [0.5, 0.5]], [[0.5, 0.5], [0.5, 0.5]], [[1.0, 0.0], [0.0, 1.0]]]\n",
    "#     e_prob = [[[0.5, 0.5], [0.5, 0.5]], [[0.5, 0.5], [0.5, 0.5]], [[0.85, 0.15], [0.15, 0.85]]]\n",
    "#     rewards = [[-100, 10], [10, -100], [-1, -1]]\n",
    "\n",
    "#     gamma = 0.95\n",
    "#     actions = ('0', '1', '2')\n",
    "#     states = ('0', '1')\n",
    "\n",
    "#     pomdp = POMDP(actions, t_prob, e_prob, rewards, states, gamma)\n",
    "#     utility = pomdp_value_iteration(pomdp, epsilon=100)\n",
    "\n",
    "#     for _, v in utility.items():\n",
    "#         sum_ = 0\n",
    "#         for element in v:\n",
    "            \n",
    "#             sum_ += sum(element)\n",
    "   \n",
    "#     assert -77.31 < sum_ < -77.25 or 799 < sum_ < 800\n",
    "\n",
    "\n",
    "# if __name__ == \"__main__\":\n",
    "#     pytest.main()"
   ]
  },
  {
   "cell_type": "code",
   "execution_count": null,
   "metadata": {},
   "outputs": [],
   "source": []
  },
  {
   "cell_type": "code",
   "execution_count": null,
   "metadata": {},
   "outputs": [],
   "source": []
  },
  {
   "cell_type": "code",
   "execution_count": null,
   "metadata": {},
   "outputs": [],
   "source": []
  },
  {
   "cell_type": "code",
   "execution_count": 79,
   "metadata": {},
   "outputs": [],
   "source": [
    "def test_pomdp_value_iteration():\n",
    "    t_prob = 1\n",
    "    # rewards = (biasRewFactorLeft, biasRewFactorRight, rewDom, rewSupp, expts)\n",
    "    rewards = (1, 1, 10, 2, 5)\n",
    "    # def __init__(self, actions, transitions=None, evidences=None, rewards=None, states=None, gamma=0.95)\n",
    "    sigmaAttention = np.array([.02, .02])\n",
    "    p_stay = 0.95\n",
    "    gamma = 0\n",
    "    actions = ('0', '1')\n",
    "    states = ('0', '1')\n",
    "    Initial_Loc = 1\n",
    "\n",
    "    pomdp = POMDP(actions, transitions=t_prob, rewards = rewards, states = states, p_stay=p_stay, sigmaAttention = sigmaAttention, gamma = gamma, Initial_Loc = Initial_Loc )\n",
    "    utility = pomdp_value_iteration(pomdp, epsilon=5)\n",
    "    # print(utility)\n",
    "    # for _, v in utility.items():\n",
    "    #     sum_ = 0\n",
    "    #     for element in v:\n",
    "    #         print(element)\n",
    "    #         sum_ += sum(element)\n",
    "    # print(sum_)\n",
    "    # assert -9.76 < sum_ < -9.70 or 246.5 < sum_ < 248.5 or 0 < sum_ < 1"
   ]
  },
  {
   "cell_type": "code",
   "execution_count": 80,
   "metadata": {},
   "outputs": [],
   "source": [
    "# this value iteration does not consider future, and because of that, gamma is not cosidered neither \n",
    "#by a little modification, gamma can be added to this iteration\n",
    "\n",
    "\n",
    "def pomdp_value_iteration(pomdp, epsilon=0.1, Initial_loc=1):\n",
    "    \"\"\"Solving a POMDP by value iteration.\"\"\"\n",
    "\n",
    "    # pomdp.update(Initial_loc,Initial_loc)\n",
    "    U = {'': [[0] * len(pomdp.states)]}\n",
    "    count = 0\n",
    "    while True:\n",
    "        count += 1\n",
    "        print('\\n')\n",
    "        print('\\n')\n",
    "        print(count)\n",
    "        #adding a cost for switching the states\n",
    "        changing_cost = 0\n",
    "        cost_added = pomdp.reward_arr + np.array([[0,changing_cost],[changing_cost,0]])\n",
    "        U = cost_added * pomdp.e_prob\n",
    "\n",
    "\n",
    "        print('reward',pomdp.reward_arr)\n",
    "        print('e ',pomdp.e_prob)\n",
    "        print('U',U)\n",
    "        # Max_1 = np.argmax([U[0][0],U[1][0]])\n",
    "        # Max_2 = np.argmax([U[0][1],U[1][1]])\n",
    "\n",
    "\n",
    "\n",
    "\n",
    "        # determines the more valued action for both states (for example, if the agent was in the state 0, which action would be more valued. and vice versa)\n",
    "        action = [np.argmax(U[0]),np.argmax(U[1])]\n",
    "        print(action)\n",
    "\n",
    "        # now we select action based on the previous state,\n",
    "        act = pomdp.selected_action(action)\n",
    "        print(act)\n",
    "\n",
    "        # choosing the next state baseed on the action and transition probabilities\n",
    "        state = pomdp.last_state(act)\n",
    "\n",
    "        # updates for the next time point \n",
    "        pomdp.belief_update()\n",
    "        pomdp.update(act,state)\n",
    "        pomdp.reward_set()\n",
    "        \n",
    "        # print(U)\n",
    "        # replace with U = pomdp.remove_dominated_plans(U1) for accurate calculations\n",
    "\n",
    "        # runs for a 50 time points\n",
    "        if count > 100:\n",
    "            # print(pomdp.belieflist)\n",
    "            belief0 = np.array(pomdp.belieflist)\n",
    "            belief1 = 1-belief0\n",
    "            belief = np.array((belief1, belief0))\n",
    "            state = np.array(pomdp.statelist)\n",
    "            reward = np.array(pomdp.rewardlist)\n",
    "            # print(pomdp.rewardlist)\n",
    "            plt.plot(reward[0],color = 'r',label='reward left')\n",
    "            plt.plot(reward[1],color = 'b',label='reward right')\n",
    "            plt.show()  \n",
    "            plot_fish(state)\n",
    "            plot_belief(belief)\n",
    "\n",
    "            #Since there is no gamma defined here, this condition would not work to stop iteration process\n",
    "            # if pomdp.max_difference(U, prev_U) < epsilon * (1 - pomdp.gamma) / (pomdp.gamma+0.00001):\n",
    "            return U"
   ]
  },
  {
   "cell_type": "code",
   "execution_count": null,
   "metadata": {},
   "outputs": [],
   "source": []
  },
  {
   "cell_type": "code",
   "execution_count": null,
   "metadata": {},
   "outputs": [],
   "source": []
  },
  {
   "cell_type": "code",
   "execution_count": null,
   "metadata": {},
   "outputs": [],
   "source": []
  },
  {
   "cell_type": "code",
   "execution_count": null,
   "metadata": {},
   "outputs": [],
   "source": []
  },
  {
   "cell_type": "code",
   "execution_count": 81,
   "metadata": {},
   "outputs": [
    {
     "name": "stdout",
     "output_type": "stream",
     "text": [
      "\n",
      "\n",
      "\n",
      "\n",
      "1\n",
      "reward [[2. 0.]\n",
      " [0. 2.]]\n",
      "e  [0.52359164 0.47640836]\n",
      "U [[1.04718328 0.        ]\n",
      " [0.         0.95281672]]\n",
      "[0, 1]\n",
      "1\n",
      "\n",
      "\n",
      "\n",
      "\n",
      "2\n",
      "reward [[6.70320046 2.        ]\n",
      " [2.         6.70320046]]\n",
      "e  [0.50531039 0.49468961]\n",
      "U [[3.38719686 0.98937921]\n",
      " [1.01062079 3.3160036 ]]\n",
      "[0, 1]\n",
      "1\n",
      "\n",
      "\n",
      "\n",
      "\n",
      "3\n",
      "reward [[5.48811636 2.        ]\n",
      " [2.         5.48811636]]\n",
      "e  [0.44601496 0.55398504]\n",
      "U [[2.44778198 1.10797009]\n",
      " [0.89202991 3.04033439]]\n",
      "[0, 1]\n",
      "1\n",
      "\n",
      "\n",
      "\n",
      "\n",
      "4\n",
      "reward [[4.49328964 2.        ]\n",
      " [2.         4.49328964]]\n",
      "e  [0.92888037 0.07111963]\n",
      "U [[4.17372853 0.14223927]\n",
      " [1.85776073 0.31956111]]\n",
      "[0, 0]\n",
      "0\n",
      "\n",
      "\n",
      "\n",
      "\n",
      "5\n",
      "reward [[8.18730753 2.        ]\n",
      " [2.         8.18730753]]\n",
      "e  [0.78498435 0.21501565]\n",
      "U [[6.4269083  0.4300313 ]\n",
      " [1.5699687  1.76039923]]\n",
      "[0, 1]\n",
      "0\n",
      "\n",
      "\n",
      "\n",
      "\n",
      "6\n",
      "reward [[6.70320046 2.        ]\n",
      " [2.         6.70320046]]\n",
      "e  [0.83830151 0.16169849]\n",
      "U [[5.61930309 0.32339697]\n",
      " [1.67660303 1.08389737]]\n",
      "[0, 0]\n",
      "0\n",
      "\n",
      "\n",
      "\n",
      "\n",
      "7\n",
      "reward [[5.48811636 2.        ]\n",
      " [2.         5.48811636]]\n",
      "e  [0.81021186 0.18978814]\n",
      "U [[4.44653698 0.37957627]\n",
      " [1.62042373 1.04157938]]\n",
      "[0, 0]\n",
      "0\n",
      "\n",
      "\n",
      "\n",
      "\n",
      "8\n",
      "reward [[4.49328964 2.        ]\n",
      " [2.         4.49328964]]\n",
      "e  [0.69756027 0.30243973]\n",
      "U [[3.13434035 0.60487945]\n",
      " [1.39512055 1.35894929]]\n",
      "[0, 0]\n",
      "0\n",
      "\n",
      "\n",
      "\n",
      "\n",
      "9\n",
      "reward [[3.67879441 2.        ]\n",
      " [2.         3.67879441]]\n",
      "e  [0.66810161 0.33189839]\n",
      "U [[2.45780846 0.66379678]\n",
      " [1.33620322 1.22098595]]\n",
      "[0, 0]\n",
      "0\n",
      "\n",
      "\n",
      "\n",
      "\n",
      "10\n",
      "reward [[3.01194212 2.        ]\n",
      " [2.         3.01194212]]\n",
      "e  [0.62144289 0.37855711]\n",
      "U [[1.87175002 0.75711422]\n",
      " [1.24288578 1.1401921 ]]\n",
      "[0, 0]\n",
      "0\n",
      "\n",
      "\n",
      "\n",
      "\n",
      "11\n",
      "reward [[2.46596964 2.        ]\n",
      " [2.         2.46596964]]\n",
      "e  [0.68483334 0.31516666]\n",
      "U [[1.68877821 0.63033333]\n",
      " [1.36966667 0.77719142]]\n",
      "[0, 0]\n",
      "0\n",
      "\n",
      "\n",
      "\n",
      "\n",
      "12\n",
      "reward [[2.01896518 2.        ]\n",
      " [2.         2.01896518]]\n",
      "e  [0.48688427 0.51311573]\n",
      "U [[0.98300239 1.02623146]\n",
      " [0.97376854 1.03596279]]\n",
      "[1, 1]\n",
      "1\n",
      "\n",
      "\n",
      "\n",
      "\n",
      "13\n",
      "reward [[8.18730753 2.        ]\n",
      " [2.         8.18730753]]\n",
      "e  [0.35434068 0.64565932]\n",
      "U [[2.90109615 1.29131863]\n",
      " [0.70868137 5.28621138]]\n",
      "[0, 1]\n",
      "1\n",
      "\n",
      "\n",
      "\n",
      "\n",
      "14\n",
      "reward [[6.70320046 2.        ]\n",
      " [2.         6.70320046]]\n",
      "e  [0.30493032 0.69506968]\n",
      "U [[2.04400904 1.39013937]\n",
      " [0.60986063 4.65919142]]\n",
      "[0, 1]\n",
      "1\n",
      "\n",
      "\n",
      "\n",
      "\n",
      "15\n",
      "reward [[5.48811636 2.        ]\n",
      " [2.         5.48811636]]\n",
      "e  [0.18887088 0.81112912]\n",
      "U [[1.03654535 1.62225825]\n",
      " [0.37774175 4.45157101]]\n",
      "[1, 1]\n",
      "1\n",
      "\n",
      "\n",
      "\n",
      "\n",
      "16\n",
      "reward [[4.49328964 2.        ]\n",
      " [2.         4.49328964]]\n",
      "e  [0.46868519 0.53131481]\n",
      "U [[2.1059383  1.06262962]\n",
      " [0.93737038 2.38735134]]\n",
      "[0, 1]\n",
      "1\n",
      "\n",
      "\n",
      "\n",
      "\n",
      "17\n",
      "reward [[3.67879441 2.        ]\n",
      " [2.         3.67879441]]\n",
      "e  [0.70670968 0.29329032]\n",
      "U [[2.59983963 0.58658064]\n",
      " [1.41341936 1.07895478]]\n",
      "[0, 0]\n",
      "0\n",
      "\n",
      "\n",
      "\n",
      "\n",
      "18\n",
      "reward [[8.18730753 2.        ]\n",
      " [2.         8.18730753]]\n",
      "e  [0.91647252 0.08352748]\n",
      "U [[7.50344236 0.16705496]\n",
      " [1.83294504 0.68386517]]\n",
      "[0, 0]\n",
      "0\n",
      "\n",
      "\n",
      "\n",
      "\n",
      "19\n",
      "reward [[6.70320046 2.        ]\n",
      " [2.         6.70320046]]\n",
      "e  [0.94348363 0.05651637]\n",
      "U [[6.32435988 0.11303275]\n",
      " [1.88696725 0.37884058]]\n",
      "[0, 0]\n",
      "0\n",
      "\n",
      "\n",
      "\n",
      "\n",
      "20\n",
      "reward [[5.48811636 2.        ]\n",
      " [2.         5.48811636]]\n",
      "e  [0.80358417 0.19641583]\n",
      "U [[4.41016342 0.39283167]\n",
      " [1.60716833 1.07795295]]\n",
      "[0, 0]\n",
      "0\n",
      "\n",
      "\n",
      "\n",
      "\n",
      "21\n",
      "reward [[4.49328964 2.        ]\n",
      " [2.         4.49328964]]\n",
      "e  [0.58185206 0.41814794]\n",
      "U [[2.61442985 0.83629587]\n",
      " [1.16370413 1.87885979]]\n",
      "[0, 1]\n",
      "0\n",
      "\n",
      "\n",
      "\n",
      "\n",
      "22\n",
      "reward [[3.67879441 2.        ]\n",
      " [2.         3.67879441]]\n",
      "e  [0.55776076 0.44223924]\n",
      "U [[2.05188715 0.88447849]\n",
      " [1.11552151 1.62690726]]\n",
      "[0, 1]\n",
      "0\n",
      "\n",
      "\n",
      "\n",
      "\n",
      "23\n",
      "reward [[3.01194212 2.        ]\n",
      " [2.         3.01194212]]\n",
      "e  [0.5369714 0.4630286]\n",
      "U [[1.61732679 0.92605719]\n",
      " [1.07394281 1.39461533]]\n",
      "[0, 1]\n",
      "0\n",
      "\n",
      "\n",
      "\n",
      "\n",
      "24\n",
      "reward [[2.46596964 2.        ]\n",
      " [2.         2.46596964]]\n",
      "e  [0.90734813 0.09265187]\n",
      "U [[2.23749295 0.18530373]\n",
      " [1.81469627 0.22847669]]\n",
      "[0, 0]\n",
      "0\n",
      "\n",
      "\n",
      "\n",
      "\n",
      "25\n",
      "reward [[2.01896518 2.        ]\n",
      " [2.         2.01896518]]\n",
      "e  [0.90731934 0.09268066]\n",
      "U [[1.83184615 0.18536132]\n",
      " [1.81463868 0.18711903]]\n",
      "[0, 0]\n",
      "0\n",
      "\n",
      "\n",
      "\n",
      "\n",
      "26\n",
      "reward [[1.65298888 2.        ]\n",
      " [2.         1.65298888]]\n",
      "e  [0.77656099 0.22343901]\n",
      "U [[1.28364668 0.44687802]\n",
      " [1.55312198 0.3693422 ]]\n",
      "[0, 0]\n",
      "0\n",
      "\n",
      "\n",
      "\n",
      "\n",
      "27\n",
      "reward [[1.35335283 2.        ]\n",
      " [2.         1.35335283]]\n",
      "e  [0.6304723 0.3695277]\n",
      "U [[0.85325147 0.7390554 ]\n",
      " [1.2609446  0.50010136]]\n",
      "[0, 0]\n",
      "0\n",
      "\n",
      "\n",
      "\n",
      "\n",
      "28\n",
      "reward [[1.10803158 2.        ]\n",
      " [2.         1.10803158]]\n",
      "e  [0.90285137 0.09714863]\n",
      "U [[1.00038784 0.19429725]\n",
      " [1.80570275 0.10764375]]\n",
      "[0, 0]\n",
      "0\n",
      "\n",
      "\n",
      "\n",
      "\n",
      "29\n",
      "reward [[0.90717953 2.        ]\n",
      " [2.         0.90717953]]\n",
      "e  [0.95288916 0.04711084]\n",
      "U [[0.86444154 0.09422169]\n",
      " [1.90577831 0.04273799]]\n",
      "[0, 0]\n",
      "0\n",
      "\n",
      "\n",
      "\n",
      "\n",
      "30\n",
      "reward [[0.74273578 2.        ]\n",
      " [2.         0.74273578]]\n",
      "e  [0.90937312 0.09062688]\n",
      "U [[0.67542396 0.18125376]\n",
      " [1.81874624 0.06731182]]\n",
      "[0, 0]\n",
      "0\n",
      "\n",
      "\n",
      "\n",
      "\n",
      "31\n",
      "reward [[0.60810063 2.        ]\n",
      " [2.         0.60810063]]\n",
      "e  [0.86398821 0.13601179]\n",
      "U [[0.52539177 0.27202357]\n",
      " [1.72797643 0.08270885]]\n",
      "[0, 0]\n",
      "0\n",
      "\n",
      "\n",
      "\n",
      "\n",
      "32\n",
      "reward [[0.49787068 2.        ]\n",
      " [2.         0.49787068]]\n",
      "e  [0.84331572 0.15668428]\n",
      "U [[0.41986217 0.31336857]\n",
      " [1.68663143 0.07800851]]\n",
      "[0, 0]\n",
      "0\n",
      "\n",
      "\n",
      "\n",
      "\n",
      "33\n",
      "reward [[0.40762204 2.        ]\n",
      " [2.         0.40762204]]\n",
      "e  [0.76566683 0.23433317]\n",
      "U [[0.31210268 0.46866633]\n",
      " [1.53133367 0.09551936]]\n",
      "[1, 0]\n",
      "1\n",
      "\n",
      "\n",
      "\n",
      "\n",
      "34\n",
      "reward [[8.18730753 2.        ]\n",
      " [2.         8.18730753]]\n",
      "e  [0.73251292 0.26748708]\n",
      "U [[5.99730857 0.53497415]\n",
      " [1.46502585 2.18999896]]\n",
      "[0, 1]\n",
      "1\n",
      "\n",
      "\n",
      "\n",
      "\n",
      "35\n",
      "reward [[6.70320046 2.        ]\n",
      " [2.         6.70320046]]\n",
      "e  [0.31766265 0.68233735]\n",
      "U [[2.12935645 1.36467469]\n",
      " [0.63532531 4.57384401]]\n",
      "[0, 1]\n",
      "1\n",
      "\n",
      "\n",
      "\n",
      "\n",
      "36\n",
      "reward [[5.48811636 2.        ]\n",
      " [2.         5.48811636]]\n",
      "e  [0.34523664 0.65476336]\n",
      "U [[1.89469888 1.30952671]\n",
      " [0.69047329 3.59341749]]\n",
      "[0, 1]\n",
      "1\n",
      "\n",
      "\n",
      "\n",
      "\n",
      "37\n",
      "reward [[4.49328964 2.        ]\n",
      " [2.         4.49328964]]\n",
      "e  [0.3090053 0.6909947]\n",
      "U [[1.3884503  1.3819894 ]\n",
      " [0.6180106  3.10483934]]\n",
      "[0, 1]\n",
      "1\n",
      "\n",
      "\n",
      "\n",
      "\n",
      "38\n",
      "reward [[3.67879441 2.        ]\n",
      " [2.         3.67879441]]\n",
      "e  [0.3104257 0.6895743]\n",
      "U [[1.14199234 1.37914859]\n",
      " [0.62085141 2.53680207]]\n",
      "[1, 1]\n",
      "1\n",
      "\n",
      "\n",
      "\n",
      "\n",
      "39\n",
      "reward [[3.01194212 2.        ]\n",
      " [2.         3.01194212]]\n",
      "e  [0.83226969 0.16773031]\n",
      "U [[2.50674812 0.33546063]\n",
      " [1.66453937 0.505194  ]]\n",
      "[0, 0]\n",
      "0\n",
      "\n",
      "\n",
      "\n",
      "\n",
      "40\n",
      "reward [[8.18730753 2.        ]\n",
      " [2.         8.18730753]]\n",
      "e  [0.80720264 0.19279736]\n",
      "U [[6.60881626 0.38559472]\n",
      " [1.61440528 1.57849128]]\n",
      "[0, 0]\n",
      "0\n",
      "\n",
      "\n",
      "\n",
      "\n",
      "41\n",
      "reward [[6.70320046 2.        ]\n",
      " [2.         6.70320046]]\n",
      "e  [0.71924204 0.28075796]\n",
      "U [[4.82122358 0.56151592]\n",
      " [1.43848408 1.88197688]]\n",
      "[0, 1]\n",
      "0\n",
      "\n",
      "\n",
      "\n",
      "\n",
      "42\n",
      "reward [[5.48811636 2.        ]\n",
      " [2.         5.48811636]]\n",
      "e  [0.81591555 0.18408445]\n",
      "U [[4.4778395  0.36816889]\n",
      " [1.63183111 1.01027686]]\n",
      "[0, 0]\n",
      "0\n",
      "\n",
      "\n",
      "\n",
      "\n",
      "43\n",
      "reward [[4.49328964 2.        ]\n",
      " [2.         4.49328964]]\n",
      "e  [0.77925925 0.22074075]\n",
      "U [[3.50143752 0.4414815 ]\n",
      " [1.5585185  0.99185212]]\n",
      "[0, 0]\n",
      "0\n",
      "\n",
      "\n",
      "\n",
      "\n",
      "44\n",
      "reward [[3.67879441 2.        ]\n",
      " [2.         3.67879441]]\n",
      "e  [0.69811444 0.30188556]\n",
      "U [[2.56821951 0.60377111]\n",
      " [1.39622889 1.1105749 ]]\n",
      "[0, 0]\n",
      "0\n",
      "\n",
      "\n",
      "\n",
      "\n",
      "45\n",
      "reward [[3.01194212 2.        ]\n",
      " [2.         3.01194212]]\n",
      "e  [0.67326121 0.32673879]\n",
      "U [[2.0278238  0.65347758]\n",
      " [1.34652242 0.98411832]]\n",
      "[0, 0]\n",
      "0\n",
      "\n",
      "\n",
      "\n",
      "\n",
      "46\n",
      "reward [[2.46596964 2.        ]\n",
      " [2.         2.46596964]]\n",
      "e  [0.66353272 0.33646728]\n",
      "U [[1.63625153 0.67293457]\n",
      " [1.32706543 0.82971811]]\n",
      "[0, 0]\n",
      "0\n",
      "\n",
      "\n",
      "\n",
      "\n",
      "47\n",
      "reward [[2.01896518 2.        ]\n",
      " [2.         2.01896518]]\n",
      "e  [0.84174425 0.15825575]\n",
      "U [[1.69945232 0.31651151]\n",
      " [1.68348849 0.31951286]]\n",
      "[0, 0]\n",
      "0\n",
      "\n",
      "\n",
      "\n",
      "\n",
      "48\n",
      "reward [[1.65298888 2.        ]\n",
      " [2.         1.65298888]]\n",
      "e  [0.7530211 0.2469789]\n",
      "U [[1.24473551 0.49395779]\n",
      " [1.50604221 0.40825337]]\n",
      "[0, 0]\n",
      "0\n",
      "\n",
      "\n",
      "\n",
      "\n",
      "49\n",
      "reward [[1.35335283 2.        ]\n",
      " [2.         1.35335283]]\n",
      "e  [0.72561193 0.27438807]\n",
      "U [[0.98200896 0.54877614]\n",
      " [1.45122386 0.37134387]]\n",
      "[0, 0]\n",
      "0\n",
      "\n",
      "\n",
      "\n",
      "\n",
      "50\n",
      "reward [[1.10803158 2.        ]\n",
      " [2.         1.10803158]]\n",
      "e  [0.02031195 0.97968805]\n",
      "U [[0.02250628 1.9593761 ]\n",
      " [0.0406239  1.0855253 ]]\n",
      "[1, 1]\n",
      "1\n",
      "\n",
      "\n",
      "\n",
      "\n",
      "51\n",
      "reward [[8.18730753 2.        ]\n",
      " [2.         8.18730753]]\n",
      "e  [0.05794679 0.94205321]\n",
      "U [[0.4744282  1.88410642]\n",
      " [0.11589358 7.71287933]]\n",
      "[1, 1]\n",
      "1\n",
      "\n",
      "\n",
      "\n",
      "\n",
      "52\n",
      "reward [[6.70320046 2.        ]\n",
      " [2.         6.70320046]]\n",
      "e  [0.26157362 0.73842638]\n",
      "U [[1.75338043 1.47685276]\n",
      " [0.52314724 4.94982003]]\n",
      "[0, 1]\n",
      "1\n",
      "\n",
      "\n",
      "\n",
      "\n",
      "53\n",
      "reward [[5.48811636 2.        ]\n",
      " [2.         5.48811636]]\n",
      "e  [0.09814705 0.90185295]\n",
      "U [[0.53864245 1.80370589]\n",
      " [0.19629411 4.94947391]]\n",
      "[1, 1]\n",
      "1\n",
      "\n",
      "\n",
      "\n",
      "\n",
      "54\n",
      "reward [[4.49328964 2.        ]\n",
      " [2.         4.49328964]]\n",
      "e  [0.1752071 0.8247929]\n",
      "U [[0.78725624 1.6495858 ]\n",
      " [0.3504142  3.7060334 ]]\n",
      "[1, 1]\n",
      "1\n",
      "\n",
      "\n",
      "\n",
      "\n",
      "55\n",
      "reward [[3.67879441 2.        ]\n",
      " [2.         3.67879441]]\n",
      "e  [0.18380337 0.81619663]\n",
      "U [[0.67617482 1.63239325]\n",
      " [0.36760675 3.00261959]]\n",
      "[1, 1]\n",
      "1\n",
      "\n",
      "\n",
      "\n",
      "\n",
      "56\n",
      "reward [[3.01194212 2.        ]\n",
      " [2.         3.01194212]]\n",
      "e  [0.24520272 0.75479728]\n",
      "U [[0.73853642 1.50959455]\n",
      " [0.49040545 2.2734057 ]]\n",
      "[1, 1]\n",
      "1\n",
      "\n",
      "\n",
      "\n",
      "\n",
      "57\n",
      "reward [[2.46596964 2.        ]\n",
      " [2.         2.46596964]]\n",
      "e  [0.15772279 0.84227721]\n",
      "U [[0.38893961 1.68455442]\n",
      " [0.31544558 2.07703003]]\n",
      "[1, 1]\n",
      "1\n",
      "\n",
      "\n",
      "\n",
      "\n",
      "58\n",
      "reward [[2.01896518 2.        ]\n",
      " [2.         2.01896518]]\n",
      "e  [0.35700381 0.64299619]\n",
      "U [[0.72077826 1.28599238]\n",
      " [0.71400762 1.29818692]]\n",
      "[1, 1]\n",
      "1\n",
      "\n",
      "\n",
      "\n",
      "\n",
      "59\n",
      "reward [[1.65298888 2.        ]\n",
      " [2.         1.65298888]]\n",
      "e  [0.27084531 0.72915469]\n",
      "U [[0.44770428 1.45830938]\n",
      " [0.54169062 1.2052846 ]]\n",
      "[1, 1]\n",
      "1\n",
      "\n",
      "\n",
      "\n",
      "\n",
      "60\n",
      "reward [[1.35335283 2.        ]\n",
      " [2.         1.35335283]]\n",
      "e  [0.37577443 0.62422557]\n",
      "U [[0.50855539 1.24845114]\n",
      " [0.75154886 0.84479745]]\n",
      "[1, 1]\n",
      "1\n",
      "\n",
      "\n",
      "\n",
      "\n",
      "61\n",
      "reward [[1.10803158 2.        ]\n",
      " [2.         1.10803158]]\n",
      "e  [0.71105104 0.28894896]\n",
      "U [[0.78786701 0.57789792]\n",
      " [1.42210208 0.32016457]]\n",
      "[0, 0]\n",
      "0\n",
      "\n",
      "\n",
      "\n",
      "\n",
      "62\n",
      "reward [[8.18730753 2.        ]\n",
      " [2.         8.18730753]]\n",
      "e  [0.65444438 0.34555562]\n",
      "U [[5.35813738 0.69111124]\n",
      " [1.30888876 2.82917015]]\n",
      "[0, 1]\n",
      "0\n",
      "\n",
      "\n",
      "\n",
      "\n",
      "63\n",
      "reward [[6.70320046 2.        ]\n",
      " [2.         6.70320046]]\n",
      "e  [0.53252257 0.46747743]\n",
      "U [[3.56960554 0.93495486]\n",
      " [1.06504514 3.13359492]]\n",
      "[0, 1]\n",
      "0\n",
      "\n",
      "\n",
      "\n",
      "\n",
      "64\n",
      "reward [[5.48811636 2.        ]\n",
      " [2.         5.48811636]]\n",
      "e  [0.56020256 0.43979744]\n",
      "U [[3.07445682 0.87959488]\n",
      " [1.12040512 2.41365954]]\n",
      "[0, 1]\n",
      "0\n",
      "\n",
      "\n",
      "\n",
      "\n",
      "65\n",
      "reward [[4.49328964 2.        ]\n",
      " [2.         4.49328964]]\n",
      "e  [0.92123692 0.07876308]\n",
      "U [[4.13938431 0.15752616]\n",
      " [1.84247384 0.35390533]]\n",
      "[0, 0]\n",
      "0\n",
      "\n",
      "\n",
      "\n",
      "\n",
      "66\n",
      "reward [[3.67879441 2.        ]\n",
      " [2.         3.67879441]]\n",
      "e  [0.94279098 0.05720902]\n",
      "U [[3.46833418 0.11441805]\n",
      " [1.88558195 0.21046023]]\n",
      "[0, 0]\n",
      "0\n",
      "\n",
      "\n",
      "\n",
      "\n",
      "67\n",
      "reward [[3.01194212 2.        ]\n",
      " [2.         3.01194212]]\n",
      "e  [0.94316577 0.05683423]\n",
      "U [[2.84076071 0.11366846]\n",
      " [1.88633154 0.1711814 ]]\n",
      "[0, 0]\n",
      "0\n",
      "\n",
      "\n",
      "\n",
      "\n",
      "68\n",
      "reward [[2.46596964 2.        ]\n",
      " [2.         2.46596964]]\n",
      "e  [0.87025943 0.12974057]\n",
      "U [[2.14603333 0.25948115]\n",
      " [1.74051885 0.31993631]]\n",
      "[0, 0]\n",
      "0\n",
      "\n",
      "\n",
      "\n",
      "\n",
      "69\n",
      "reward [[2.01896518 2.        ]\n",
      " [2.         2.01896518]]\n",
      "e  [0.82784088 0.17215912]\n",
      "U [[1.67138191 0.34431824]\n",
      " [1.65568176 0.34758327]]\n",
      "[0, 0]\n",
      "0\n",
      "\n",
      "\n",
      "\n",
      "\n",
      "70\n",
      "reward [[1.65298888 2.        ]\n",
      " [2.         1.65298888]]\n",
      "e  [0.78842215 0.21157785]\n",
      "U [[1.30325305 0.4231557 ]\n",
      " [1.5768443  0.34973583]]\n",
      "[0, 0]\n",
      "0\n",
      "\n",
      "\n",
      "\n",
      "\n",
      "71\n",
      "reward [[1.35335283 2.        ]\n",
      " [2.         1.35335283]]\n",
      "e  [0.77621382 0.22378618]\n",
      "U [[1.05049117 0.44757236]\n",
      " [1.55242764 0.30286166]]\n",
      "[0, 0]\n",
      "0\n",
      "\n",
      "\n",
      "\n",
      "\n",
      "72\n",
      "reward [[1.10803158 2.        ]\n",
      " [2.         1.10803158]]\n",
      "e  [0.75055299 0.24944701]\n",
      "U [[0.83163642 0.49889401]\n",
      " [1.50110599 0.27639516]]\n",
      "[0, 0]\n",
      "0\n",
      "\n",
      "\n",
      "\n",
      "\n",
      "73\n",
      "reward [[0.90717953 2.        ]\n",
      " [2.         0.90717953]]\n",
      "e  [0.25545916 0.74454084]\n",
      "U [[0.23174733 1.48908167]\n",
      " [0.51091833 0.67543221]]\n",
      "[1, 1]\n",
      "1\n",
      "\n",
      "\n",
      "\n",
      "\n",
      "74\n",
      "reward [[8.18730753 2.        ]\n",
      " [2.         8.18730753]]\n",
      "e  [0.30163113 0.69836887]\n",
      "U [[2.46954684 1.39673773]\n",
      " [0.60326227 5.71776069]]\n",
      "[0, 1]\n",
      "1\n",
      "\n",
      "\n",
      "\n",
      "\n",
      "75\n",
      "reward [[6.70320046 2.        ]\n",
      " [2.         6.70320046]]\n",
      "e  [0.24401594 0.75598406]\n",
      "U [[1.63568779 1.51196811]\n",
      " [0.48803189 5.06751267]]\n",
      "[0, 1]\n",
      "1\n",
      "\n",
      "\n",
      "\n",
      "\n",
      "76\n",
      "reward [[5.48811636 2.        ]\n",
      " [2.         5.48811636]]\n",
      "e  [0.26103346 0.73896654]\n",
      "U [[1.432582   1.47793308]\n",
      " [0.52206692 4.05553436]]\n",
      "[1, 1]\n",
      "1\n",
      "\n",
      "\n",
      "\n",
      "\n",
      "77\n",
      "reward [[4.49328964 2.        ]\n",
      " [2.         4.49328964]]\n",
      "e  [0.48986678 0.51013322]\n",
      "U [[2.20111335 1.02026643]\n",
      " [0.97973357 2.29217629]]\n",
      "[0, 1]\n",
      "1\n",
      "\n",
      "\n",
      "\n",
      "\n",
      "78\n",
      "reward [[3.67879441 2.        ]\n",
      " [2.         3.67879441]]\n",
      "e  [0.46430388 0.53569612]\n",
      "U [[1.70807851 1.07139225]\n",
      " [0.92860775 1.97071591]]\n",
      "[0, 1]\n",
      "1\n",
      "\n",
      "\n",
      "\n",
      "\n",
      "79\n",
      "reward [[3.01194212 2.        ]\n",
      " [2.         3.01194212]]\n",
      "e  [0.57969444 0.42030556]\n",
      "U [[1.74600611 0.84061112]\n",
      " [1.15938888 1.26593601]]\n",
      "[0, 1]\n",
      "1\n",
      "\n",
      "\n",
      "\n",
      "\n",
      "80\n",
      "reward [[2.46596964 2.        ]\n",
      " [2.         2.46596964]]\n",
      "e  [0.41243716 0.58756284]\n",
      "U [[1.0170575  1.17512569]\n",
      " [0.82487431 1.44891214]]\n",
      "[1, 1]\n",
      "1\n",
      "\n",
      "\n",
      "\n",
      "\n",
      "81\n",
      "reward [[2.01896518 2.        ]\n",
      " [2.         2.01896518]]\n",
      "e  [0.26691279 0.73308721]\n",
      "U [[0.53888763 1.46617442]\n",
      " [0.53382558 1.48007755]]\n",
      "[1, 1]\n",
      "1\n",
      "\n",
      "\n",
      "\n",
      "\n",
      "82\n",
      "reward [[1.65298888 2.        ]\n",
      " [2.         1.65298888]]\n",
      "e  [0.29931818 0.70068182]\n",
      "U [[0.49476962 1.40136364]\n",
      " [0.59863636 1.15821926]]\n",
      "[1, 1]\n",
      "1\n",
      "\n",
      "\n",
      "\n",
      "\n",
      "83\n",
      "reward [[1.35335283 2.        ]\n",
      " [2.         1.35335283]]\n",
      "e  [0.34149291 0.65850709]\n",
      "U [[0.46216039 1.31701419]\n",
      " [0.68298581 0.89119244]]\n",
      "[1, 1]\n",
      "1\n",
      "\n",
      "\n",
      "\n",
      "\n",
      "84\n",
      "reward [[1.10803158 2.        ]\n",
      " [2.         1.10803158]]\n",
      "e  [0.2334976 0.7665024]\n",
      "U [[0.25872271 1.5330048 ]\n",
      " [0.4669952  0.84930887]]\n",
      "[1, 1]\n",
      "1\n",
      "\n",
      "\n",
      "\n",
      "\n",
      "85\n",
      "reward [[0.90717953 2.        ]\n",
      " [2.         0.90717953]]\n",
      "e  [0.03047618 0.96952382]\n",
      "U [[0.02764737 1.93904764]\n",
      " [0.06095236 0.87953217]]\n",
      "[1, 1]\n",
      "1\n",
      "\n",
      "\n",
      "\n",
      "\n",
      "86\n",
      "reward [[0.74273578 2.        ]\n",
      " [2.         0.74273578]]\n",
      "e  [0.0374139 0.9625861]\n",
      "U [[0.02778865 1.92517219]\n",
      " [0.07482781 0.71494714]]\n",
      "[1, 1]\n",
      "1\n",
      "\n",
      "\n",
      "\n",
      "\n",
      "87\n",
      "reward [[0.60810063 2.        ]\n",
      " [2.         0.60810063]]\n",
      "e  [0.06602611 0.93397389]\n",
      "U [[0.04015052 1.86794779]\n",
      " [0.13205221 0.56795011]]\n",
      "[1, 1]\n",
      "1\n",
      "\n",
      "\n",
      "\n",
      "\n",
      "88\n",
      "reward [[0.49787068 2.        ]\n",
      " [2.         0.49787068]]\n",
      "e  [0.28985072 0.71014928]\n",
      "U [[0.14430818 1.42029856]\n",
      " [0.57970144 0.35356251]]\n",
      "[1, 0]\n",
      "0\n",
      "\n",
      "\n",
      "\n",
      "\n",
      "89\n",
      "reward [[8.18730753 2.        ]\n",
      " [2.         8.18730753]]\n",
      "e  [0.12171334 0.87828666]\n",
      "U [[0.99650453 1.75657332]\n",
      " [0.24342668 7.19080301]]\n",
      "[1, 1]\n",
      "1\n",
      "\n",
      "\n",
      "\n",
      "\n",
      "90\n",
      "reward [[8.18730753 2.        ]\n",
      " [2.         8.18730753]]\n",
      "e  [0.15311835 0.84688165]\n",
      "U [[1.25362702 1.6937633 ]\n",
      " [0.3062367  6.93368051]]\n",
      "[1, 1]\n",
      "1\n",
      "\n",
      "\n",
      "\n",
      "\n",
      "91\n",
      "reward [[6.70320046 2.        ]\n",
      " [2.         6.70320046]]\n",
      "e  [0.15737747 0.84262253]\n",
      "U [[1.05493271 1.68524506]\n",
      " [0.31475494 5.64826775]]\n",
      "[1, 1]\n",
      "1\n",
      "\n",
      "\n",
      "\n",
      "\n",
      "92\n",
      "reward [[5.48811636 2.        ]\n",
      " [2.         5.48811636]]\n",
      "e  [0.378279 0.621721]\n",
      "U [[2.07603915 1.24344201]\n",
      " [0.75655799 3.41207721]]\n",
      "[0, 1]\n",
      "1\n",
      "\n",
      "\n",
      "\n",
      "\n",
      "93\n",
      "reward [[4.49328964 2.        ]\n",
      " [2.         4.49328964]]\n",
      "e  [0.38408071 0.61591929]\n",
      "U [[1.72578589 1.23183857]\n",
      " [0.76816143 2.76750375]]\n",
      "[0, 1]\n",
      "1\n",
      "\n",
      "\n",
      "\n",
      "\n",
      "94\n",
      "reward [[3.67879441 2.        ]\n",
      " [2.         3.67879441]]\n",
      "e  [0.65298846 0.34701154]\n",
      "U [[2.4022103  0.69402308]\n",
      " [1.30597692 1.27658411]]\n",
      "[0, 0]\n",
      "0\n",
      "\n",
      "\n",
      "\n",
      "\n",
      "95\n",
      "reward [[8.18730753 2.        ]\n",
      " [2.         8.18730753]]\n",
      "e  [0.8865506 0.1134494]\n",
      "U [[7.2584624  0.2268988 ]\n",
      " [1.7731012  0.92884514]]\n",
      "[0, 0]\n",
      "0\n",
      "\n",
      "\n",
      "\n",
      "\n",
      "96\n",
      "reward [[6.70320046 2.        ]\n",
      " [2.         6.70320046]]\n",
      "e  [0.8162883 0.1837117]\n",
      "U [[5.47174409 0.36742341]\n",
      " [1.63257659 1.23145637]]\n",
      "[0, 0]\n",
      "0\n",
      "\n",
      "\n",
      "\n",
      "\n",
      "97\n",
      "reward [[5.48811636 2.        ]\n",
      " [2.         5.48811636]]\n",
      "e  [0.90388048 0.09611952]\n",
      "U [[4.96060124 0.19223904]\n",
      " [1.80776096 0.52751512]]\n",
      "[0, 0]\n",
      "0\n",
      "\n",
      "\n",
      "\n",
      "\n",
      "98\n",
      "reward [[4.49328964 2.        ]\n",
      " [2.         4.49328964]]\n",
      "e  [0.8656711 0.1343289]\n",
      "U [[3.88971098 0.2686578 ]\n",
      " [1.7313422  0.60357867]]\n",
      "[0, 0]\n",
      "0\n",
      "\n",
      "\n",
      "\n",
      "\n",
      "99\n",
      "reward [[3.67879441 2.        ]\n",
      " [2.         3.67879441]]\n",
      "e  [0.91994415 0.08005585]\n",
      "U [[3.38428542 0.16011169]\n",
      " [1.83988831 0.294509  ]]\n",
      "[0, 0]\n",
      "0\n",
      "\n",
      "\n",
      "\n",
      "\n",
      "100\n",
      "reward [[3.01194212 2.        ]\n",
      " [2.         3.01194212]]\n",
      "e  [0.83728708 0.16271292]\n",
      "U [[2.52186022 0.32542584]\n",
      " [1.67457416 0.4900819 ]]\n",
      "[0, 0]\n",
      "0\n",
      "\n",
      "\n",
      "\n",
      "\n",
      "101\n",
      "reward [[2.46596964 2.        ]\n",
      " [2.         2.46596964]]\n",
      "e  [0.81377917 0.18622083]\n",
      "U [[2.00675472 0.37244166]\n",
      " [1.62755834 0.45921492]]\n",
      "[0, 0]\n",
      "0\n"
     ]
    },
    {
     "name": "stderr",
     "output_type": "stream",
     "text": [
      "C:\\Users\\NoteBook\\AppData\\Local\\Temp\\ipykernel_3020\\1195676575.py:111: DeprecationWarning: Conversion of an array with ndim > 0 to a scalar is deprecated, and will error in future. Ensure you extract a single element from your array before performing this operation. (Deprecated NumPy 1.25.)\n",
      "  norm_belief_0 = float(norm_belief_0)\n",
      "C:\\Users\\NoteBook\\AppData\\Local\\Temp\\ipykernel_3020\\1195676575.py:112: DeprecationWarning: Conversion of an array with ndim > 0 to a scalar is deprecated, and will error in future. Ensure you extract a single element from your array before performing this operation. (Deprecated NumPy 1.25.)\n",
      "  norm_belief_1 = float(norm_belief_1)\n"
     ]
    },
    {
     "data": {
      "image/png": "[encoded data removed]",
      "text/plain": [
       "<Figure size 640x480 with 1 Axes>"
      ]
     },
     "metadata": {},
     "output_type": "display_data"
    },
    {
     "data": {
      "image/png": "[encoded data removed]",
      "text/plain": [
       "<Figure size 1200x350 with 1 Axes>"
      ]
     },
     "metadata": {},
     "output_type": "display_data"
    },
    {
     "data": {
      "image/png": "[encoded data removed]",
      "text/plain": [
       "<Figure size 1200x250 with 1 Axes>"
      ]
     },
     "metadata": {},
     "output_type": "display_data"
    }
   ],
   "source": [
    "test_pomdp_value_iteration()"
   ]
  },
  {
   "cell_type": "code",
   "execution_count": null,
   "metadata": {},
   "outputs": [],
   "source": []
  },
  {
   "cell_type": "code",
   "execution_count": null,
   "metadata": {},
   "outputs": [],
   "source": []
  }
 ],
 "metadata": {
  "kernelspec": {
   "display_name": "Python 3 (ipykernel)",
   "language": "python",
   "name": "python3"
  },
  "language_info": {
   "codemirror_mode": {
    "name": "ipython",
    "version": 3
   },
   "file_extension": ".py",
   "mimetype": "text/x-python",
   "name": "python",
   "nbconvert_exporter": "python",
   "pygments_lexer": "ipython3",
   "version": "3.11.1"
  },
  "widgets": {
   "state": {
    "001e6c8ed3fc4eeeb6ab7901992314dd": {
     "views": []
    },
    "00f29880456846a8854ab515146ec55b": {
     "views": []
    },
    "010f52f7cde545cba25593839002049b": {
     "views": []
    },
    "01473ad99aa94acbaca856a7d980f2b9": {
     "views": []
    },
    "021a4a4f35da484db5c37c5c8d0dbcc2": {
     "views": []
    },
    "02229be5d3bc401fad55a0378977324a": {
     "views": []
    },
    "022a5fdfc8e44fb09b21c4bd5b67a0db": {
     "views": [
      {
       "cell_index": 27
      }
     ]
    },
    "025c3b0250b94d4c8d9b33adfdba4c15": {
     "views": []
    },
    "028f96abfed644b8b042be1e4b16014d": {
     "views": []
    },
    "0303bad44d404a1b9ad2cc167e42fcb7": {
     "views": []
    },
    "031d2d17f32347ec83c43798e05418fe": {
     "views": []
    },
    "03de64f0c2fd43f1b3b5d84aa265aeb7": {
     "views": []
    },
    "03fdd484675b42ad84448f64c459b0e0": {
     "views": []
    },
    "044cf74f03fd44fd840e450e5ee0c161": {
     "views": []
    },
    "054ae5ba0a014a758de446f1980f1ba5": {
     "views": []
    },
    "0675230fb92f4539bc257b768fb4cd10": {
     "views": [
      {
       "cell_index": 27
      }
     ]
    },
    "06c93b34e1f4424aba9a0b172c428260": {
     "views": []
    },
    "077a5ea324be46c3ad0110671a0c6a12": {
     "views": []
    },
    "0781138d150142a08775861a69beaec9": {
     "views": []
    },
    "0783e74a8c2b40cc9b0f5706271192f4": {
     "views": [
      {
       "cell_index": 27
      }
     ]
    },
    "07c7678b73634e728085f19d7b5b84f7": {
     "views": []
    },
    "07febf1d15a140d8adb708847dd478ec": {
     "views": []
    },
    "08299b681cd9477f9b19a125e186ce44": {
     "views": []
    },
    "083af89d82e445aab4abddfece61d700": {
     "views": []
    },
    "08a1129a8bd8486bbfe2c9e49226f618": {
     "views": []
    },
    "08a2f800c0d540fdb24015156c7ffc15": {
     "views": []
    },
    "097d8d0feccc4c76b87bbcb3f1ecece7": {
     "views": []
    },
    "098f12158d844cdf89b29a4cd568fda0": {
     "views": [
      {
       "cell_index": 27
      }
     ]
    },
    "09e96f9d5d32453290af60fbd29ca155": {
     "views": []
    },
    "0a2ec7c49dcd4f768194483c4f2e8813": {
     "views": []
    },
    "0b1d6ed8fe4144b8a24228e1befe2084": {
     "views": []
    },
    "0b299f8157d24fa9830653a394ef806a": {
     "views": []
    },
    "0b2a4ac81a244ff1a7b313290465f8f4": {
     "views": []
    },
    "0b52cfc02d604bc2ae42f4ba8c7bca4f": {
     "views": []
    },
    "0b65fb781274495ab498ad518bc274d4": {
     "views": [
      {
       "cell_index": 27
      }
     ]
    },
    "0b865813de0841c49b41f6ad5fb85c6a": {
     "views": []
    },
    "0c2070d20fb04864aeb2008a6f2b8b30": {
     "views": []
    },
    "0cf5319bcde84f65a1a91c5f9be3aa28": {
     "views": []
    },
    "0d721b5be85f4f8aafe26b3597242d60": {
     "views": []
    },
    "0d9f29e197ad45d6a04bbb6864d3be6d": {
     "views": []
    },
    "0e03c7e2c0414936b206ed055e19acba": {
     "views": []
    },
    "0e2265aa506a4778bfc480d5e48c388b": {
     "views": []
    },
    "0e4e3d0b6afc413e86970ec4250df678": {
     "views": []
    },
    "0e6a5fe6423542e6a13e30f8929a8b02": {
     "views": []
    },
    "0e7b2f39c94343c3b0d3b6611351886e": {
     "views": []
    },
    "0eb5005fa34440988bcf3be231d31511": {
     "views": []
    },
    "104703ad808e41bc9106829bb0396ece": {
     "views": []
    },
    "109c376b28774a78bf90d3da4587d834": {
     "views": []
    },
    "10b24041718843da976ac616e77ea522": {
     "views": []
    },
    "11516bb6db8b45ef866bd9be8bb59312": {
     "views": []
    },
    "1203903354fa467a8f38dbbad79cbc81": {
     "views": []
    },
    "124ecbe68ada40f68d6a1807ad6bcdf9": {
     "views": []
    },
    "1264becdbb63455183aa75f236a3413e": {
     "views": []
    },
    "13061cc21693480a8380346277c1b877": {
     "views": []
    },
    "130dd4d2c9f04ad28d9a6ac40045a329": {
     "views": []
    },
    "1350a087b5a9422386c3c5f04dd5d1c9": {
     "views": []
    },
    "139bd19be4a4427a9e08f0be6080188e": {
     "views": []
    },
    "13f9f589d36c477f9b597dda459efd16": {
     "views": []
    },
    "140917b5c77348ec82ea45da139a3045": {
     "views": []
    },
    "145419657bb1401ba934e6cea43d5fd1": {
     "views": []
    },
    "15d748f1629d4da1982cd62cfbcb1725": {
     "views": []
    },
    "17ad015dbc744ac6952d2a6da89f0289": {
     "views": []
    },
    "17b6508f32e4425e9f43e5407eb55ed3": {
     "views": []
    },
    "185598d8e5fc4dffae293f270a6e7328": {
     "views": []
    },
    "196473b25f384f3895ee245e8b7874e9": {
     "views": []
    },
    "19c0f87663a0431285a62d4ad6748046": {
     "views": []
    },
    "1a00a7b7446d4ad8b08c9a2a9ea9c852": {
     "views": []
    },
    "1a97f5b88cdc4ae0871578c06bbb9965": {
     "views": []
    },
    "1a9a07777b0c4a45b33e25a70ebdc290": {
     "views": []
    },
    "1af711fe8e4f43f084cef6c89eec40ae": {
     "views": [
      {
       "cell_index": 27
      }
     ]
    },
    "1aff6a6e15b34bb89d7579d445071230": {
     "views": []
    },
    "1b1ea7e915d846aea9efeae4381b2c48": {
     "views": []
    },
    "1ba02ae1967740b0a69e07dbe95635cb": {
     "views": []
    },
    "1c5c913acbde4e87a163abb2e24e6e38": {
     "views": [
      {
       "cell_index": 27
      }
     ]
    },
    "1cfca0b7ef754c459e1ad97c1f0ceb3b": {
     "views": []
    },
    "1d8f6a4910e649589863b781aab4c4d4": {
     "views": []
    },
    "1e64b8f5a1554a22992693c194f7b971": {
     "views": []
    },
    "1e8f0a2bf7614443a380e53ed27b48c0": {
     "views": []
    },
    "1f4e6fa4bacc479e8cd997b26a5af733": {
     "views": []
    },
    "1fdf09158eb44415a946f07c6aaba620": {
     "views": []
    },
    "200e3ebead3d4858a47e2f6d345ca395": {
     "views": [
      {
       "cell_index": 27
      }
     ]
    },
    "2050d4b462474a059f9e6493ba06ac58": {
     "views": []
    },
    "20b5c21a6e6a427ba3b9b55a0214f75e": {
     "views": []
    },
    "20b99631feba4a9c98c9d5f74c620273": {
     "views": []
    },
    "20bcff5082854ab89a7977ae56983e30": {
     "views": []
    },
    "20d708bf9b7845fa946f5f37c7733fee": {
     "views": []
    },
    "210b36ea9edf4ee49ae1ae3fe5005282": {
     "views": []
    },
    "21415393cb2d4f72b5c3f5c058aeaf66": {
     "views": []
    },
    "2186a18b6ed8405a8a720bae59de2ace": {
     "views": []
    },
    "220dc13e9b6942a7b9ed9e37d5ede7ba": {
     "views": []
    },
    "221a735fa6014a288543e6f8c7e4e2ef": {
     "views": []
    },
    "2288929cec4d4c8faad411029f5e21fa": {
     "views": []
    },
    "22b86e207ea6469d85d8333870851a86": {
     "views": []
    },
    "23283ad662a140e3b5e8677499e91d64": {
     "views": []
    },
    "23a7cc820b63454ca6be3dcfd2538ac1": {
     "views": []
    },
    "240ed02d576546028af3edfab9ea8558": {
     "views": []
    },
    "24678e52a0334cb9a9a56f92c29750be": {
     "views": []
    },
    "247820f6d83f4dd9b68f5df77dbda4b7": {
     "views": []
    },
    "24b6a837fbd942c9a68218fb8910dcd5": {
     "views": []
    },
    "24ee3204f26348bca5e6a264973e5b56": {
     "views": []
    },
    "262c7bb5bd7447f791509571fe74ae44": {
     "views": []
    },
    "263595f22d0d45e2a850854bcefe4731": {
     "views": []
    },
    "2640720aa6684c5da6d7870abcbc950b": {
     "views": []
    },
    "265ca1ec7ad742f096bb8104d0cf1550": {
     "views": []
    },
    "26bf66fba453464fac2f5cd362655083": {
     "views": []
    },
    "29769879478f49e8b4afd5c0b4662e87": {
     "views": []
    },
    "29a13bd6bc8d486ca648bf30c9e4c2a6": {
     "views": []
    },
    "29c5df6267584654b76205fc5559c553": {
     "views": []
    },
    "29ce25045e7248e5892e8aafc635c416": {
     "views": []
    },
    "2a17207c43c9424394299a7b52461794": {
     "views": []
    },
    "2a777941580945bc83ddb0c817ed4122": {
     "views": []
    },
    "2ae1844e2afe416183658d7a602e5963": {
     "views": []
    },
    "2afa2938b41944cf8c14e41a431e3969": {
     "views": []
    },
    "2bdc5f9b161548e3aab8ea392b5af1a1": {
     "views": []
    },
    "2c26b2bcfc96473584930a4b622d268e": {
     "views": []
    },
    "2ca2a914a5f940b18df0b5cde2b79e4b": {
     "views": []
    },
    "2ca2c532840548a9968d1c6b2f0acdd8": {
     "views": []
    },
    "2d17c32bfea143babe2b114d8777b15d": {
     "views": []
    },
    "2d3acd8872c342eab3484302cac2cb05": {
     "views": [
      {
       "cell_index": 27
      }
     ]
    },
    "2dc514cc2f5547aeb97059a5070dc9e3": {
     "views": []
    },
    "2e1351ad05384d058c90e594bc6143c1": {
     "views": [
      {
       "cell_index": 27
      }
     ]
    },
    "2e9b80fa18984615933e41c1c1db2171": {
     "views": []
    },
    "2ef17ee6b7c74a4bbbbbe9b1a93e4fb6": {
     "views": []
    },
    "2f5438f1b34046a597a467effd43df11": {
     "views": [
      {
       "cell_index": 27
      }
     ]
    },
    "2f8d22417f3e421f96027fca40e1554f": {
     "views": []
    },
    "2fb0409cfb49469d89a32597dc3edba9": {
     "views": []
    },
    "303ccef837984c97b7e71f2988c737a4": {
     "views": []
    },
    "3058b0808dca48a0bba9a93682260491": {
     "views": []
    },
    "306b65493c28411eb10ad786bbf85dc5": {
     "views": []
    },
    "30f5d30cf2d84530b3199015c5ff00eb": {
     "views": []
    },
    "310b1ac518bd4079bdb7ecaf523a6809": {
     "views": []
    },
    "313eca81d9d24664bcc837db54d59618": {
     "views": []
    },
    "31413caf78c14548baa61e3e3c9edc55": {
     "views": []
    },
    "317fbd3cb6324b2fbdfd6aa46a8d1192": {
     "views": []
    },
    "319425ba805346f5ba366c42e220f9c6": {
     "views": [
      {
       "cell_index": 27
      }
     ]
    },
    "31fc8165275e473f8f75c6215b5184ff": {
     "views": []
    },
    "329f12edaa0c44d2a619450f188e8777": {
     "views": []
    },
    "32edf057582f4a6ca30ce3cb685bf971": {
     "views": []
    },
    "330e74773ba148e18674cfa3e63cd6cc": {
     "views": []
    },
    "332a89c03bfb49c2bb291051d172b735": {
     "views": [
      {
       "cell_index": 27
      }
     ]
    },
    "3347dfda0aca450f89dd9b39ca1bec7d": {
     "views": []
    },
    "336e8bcfd7cc4a85956674b0c7bffff2": {
     "views": []
    },
    "3376228b3b614d4ab2a10b2fd0f484fd": {
     "views": []
    },
    "3380a22bc67c4be99c61050800f93395": {
     "views": []
    },
    "34b5c16cbea448809c2ccbce56f8d5a5": {
     "views": []
    },
    "34bb050223504afc8053ce931103f52c": {
     "views": []
    },
    "34c28187175d49198b536a1ab13668c4": {
     "views": []
    },
    "3521f32644514ecf9a96ddfa5d80fb9b": {
     "views": []
    },
    "36511bd77ed74f668053df749cc735d4": {
     "views": []
    },
    "36541c3490bd4268b64daf20d8c24124": {
     "views": []
    },
    "37aa1dd4d76a4bac98857b519b7b523a": {
     "views": []
    },
    "37aa3cfa3f8f48989091ec46ac17ae48": {
     "views": []
    },
    "386991b0b1424a9c816dac6a29e1206b": {
     "views": []
    },
    "386cf43742234dda994e35b41890b4d8": {
     "views": []
    },
    "388571e8e0314dfab8e935b7578ba7f9": {
     "views": [
      {
       "cell_index": 27
      }
     ]
    },
    "3974e38e718547efaf0445da2be6a739": {
     "views": []
    },
    "398490e0cc004d22ac9c4486abec61e1": {
     "views": []
    },
    "399875994aba4c53afa8c49fae8d369e": {
     "views": []
    },
    "39b64aa04b1d4a81953e43def0ef6e10": {
     "views": []
    },
    "39ffc3dd42d94a27ba7240d10c11b565": {
     "views": []
    },
    "3a21291c8e7249e3b04417d31b0447cf": {
     "views": [
      {
       "cell_index": 27
      }
     ]
    },
    "3a377d9f46704d749c6879383c89f5d3": {
     "views": []
    },
    "3a44a6f1f62742849e96d957033a0039": {
     "views": []
    },
    "3b22d68709b046e09fe70f381a3944cd": {
     "views": [
      {
       "cell_index": 27
      }
     ]
    },
    "3b329209c8f547acae1925dc3eb4af77": {
     "views": []
    },
    "3c1b2ec10a9041be8a3fad9da78ff9f6": {
     "views": [
      {
       "cell_index": 27
      }
     ]
    },
    "3c2be3c85c6d41268bb4f9d63a43e196": {
     "views": []
    },
    "3c6796eff7c54238a7b7776e88721b08": {
     "views": []
    },
    "3cbca3e11edf439fb7f8ba41693b4824": {
     "views": []
    },
    "3d4b6b7c0b0c48ff8c4b8d78f58e0f1c": {
     "views": []
    },
    "3de1faf0d2514f49a99b3d60ea211495": {
     "views": []
    },
    "3df60d9ac82b42d9b885d895629e372e": {
     "views": []
    },
    "3e5b9fd779574270bf58101002c152ce": {
     "views": [
      {
       "cell_index": 27
      }
     ]
    },
    "3e80f34623c94659bfab5b3b56072d9a": {
     "views": []
    },
    "3e8bb05434cb4a0291383144e4523840": {
     "views": [
      {
       "cell_index": 27
      }
     ]
    },
    "3ea1c8e4f9b34161928260e1274ee048": {
     "views": []
    },
    "3f32f0915bc6469aaaf7170eff1111e3": {
     "views": []
    },
    "3fe69a26ae7a46fda78ae0cb519a0f8b": {
     "views": []
    },
    "4000ecdd75d9467e9dffd457b35aa65f": {
     "views": []
    },
    "402d346f8b68408faed2fd79395cf3fb": {
     "views": []
    },
    "402f4116244242148fdc009bb399c3bd": {
     "views": []
    },
    "4049e0d7c0d24668b7eae2bb7169376e": {
     "views": []
    },
    "4088c9ed71b0467b9b9417d5b04eda0e": {
     "views": []
    },
    "40d70faa07654b6cb13496c32ba274b3": {
     "views": []
    },
    "4146be21b7614abe827976787ec570f1": {
     "views": []
    },
    "4198c08edda440dd93d1f6ce3e4efa62": {
     "views": []
    },
    "42023d7d3c264f9d933d4cee4362852b": {
     "views": []
    },
    "421ad8c67f754ce2b24c4fa3a8e951cf": {
     "views": []
    },
    "4263fe0cef42416f8d344c1672f591f9": {
     "views": []
    },
    "428e42f04a1e4347a1f548379c68f91b": {
     "views": [
      {
       "cell_index": 27
      }
     ]
    },
    "42a47243baf34773943a25df9cf23854": {
     "views": []
    },
    "4343b72c91d04a7c9a6080f30fc63d7d": {
     "views": []
    },
    "43488264fc924c01a30fa58604074b07": {
     "views": []
    },
    "4379175239b34553bf45c8ef9443ac55": {
     "views": [
      {
       "cell_index": 27
      }
     ]
    },
    "43859798809a4a289c58b4bd5e49d357": {
     "views": []
    },
    "43ad406a61a34249b5622aba9450b23d": {
     "views": []
    },
    "4421c121414d464bb3bf1b5f0e86c37b": {
     "views": [
      {
       "cell_index": 27
      }
     ]
    },
    "445cc08b4da44c2386ac9379793e3506": {
     "views": []
    },
    "447cff7e256c434e859bb7ce9e5d71c8": {
     "views": []
    },
    "44af7da9d8304f07890ef7d11a9f95fe": {
     "views": []
    },
    "45021b6f05db4c028a3b5572bc85217f": {
     "views": []
    },
    "457768a474844556bf9b215439a2f2e9": {
     "views": []
    },
    "45d5689de53646fe9042f3ce9e281acc": {
     "views": []
    },
    "461aa21d57824526a6b61e3f9b5af523": {
     "views": []
    },
    "472ca253aab34b098f53ed4854d35f23": {
     "views": []
    },
    "4731208453424514b471f862804d9bb8": {
     "views": [
      {
       "cell_index": 27
      }
     ]
    },
    "47dfef9eaf0e433cb4b3359575f39480": {
     "views": []
    },
    "48220a877d494a3ea0cc9dae19783a13": {
     "views": []
    },
    "4882c417949b4b6788a1c3ec208fb1ac": {
     "views": []
    },
    "49f5c38281984e3bad67fe3ea3eb6470": {
     "views": []
    },
    "4a0d39b43eee4e818d47d382d87d86d1": {
     "views": []
    },
    "4a470bf3037047f48f4547b594ac65fa": {
     "views": []
    },
    "4abab5bca8334dfbb0434be39eb550db": {
     "views": []
    },
    "4b48e08fd383489faa72fc76921eac4e": {
     "views": []
    },
    "4b9439e6445c4884bd1cde0e9fd2405e": {
     "views": []
    },
    "4b9fa014f9904fcf9aceff00cc1ebf44": {
     "views": []
    },
    "4bdc63256c3f4e31a8fa1d121f430518": {
     "views": []
    },
    "4bebb097ddc64bbda2c475c3a0e92ab5": {
     "views": []
    },
    "4c201df21ca34108a6e7b051aa58b7f6": {
     "views": []
    },
    "4ced8c156fd941eca391016fc256ce40": {
     "views": []
    },
    "4d281cda33fa489d86228370e627a5b0": {
     "views": [
      {
       "cell_index": 27
      }
     ]
    },
    "4d85e68205d94965bdb437e5441b10a1": {
     "views": []
    },
    "4e0e6dd34ba7487ba2072d352fe91bf5": {
     "views": []
    },
    "4e82b1d731dd419480e865494f932f80": {
     "views": []
    },
    "4e9f52dea051415a83c4597c4f7a6c00": {
     "views": []
    },
    "4ec035cba73647358d416615cf4096ee": {
     "views": [
      {
       "cell_index": 27
      }
     ]
    },
    "4f09442f99aa4a9e9f460f82a50317c4": {
     "views": []
    },
    "4f80b4e6b074475698efbec6062e3548": {
     "views": []
    },
    "4f905a287b4f4f0db64b9572432b0139": {
     "views": []
    },
    "50a339306cd549de86fbe5fa2a0a3503": {
     "views": []
    },
    "51068697643243e18621c888a6504434": {
     "views": []
    },
    "51333b89f44b41aba813aef099bdbb42": {
     "views": []
    },
    "5141ae07149b46909426208a30e2861e": {
     "views": [
      {
       "cell_index": 27
      }
     ]
    },
    "515606cb3b3a4fccad5056d55b262db4": {
     "views": []
    },
    "51aa6d9f5a90481db7e3dd00d77d4f09": {
     "views": []
    },
    "524091ea717d427db2383b46c33ef204": {
     "views": []
    },
    "524d1132c88f4d91b15344cc427a9565": {
     "views": []
    },
    "52f70e249adc4edb8dca28b883a5d4f4": {
     "views": []
    },
    "531c080221f64b8ca50d792bbaa6f31e": {
     "views": []
    },
    "53349c544b54450f8e2af9b8ba176d78": {
     "views": []
    },
    "53a8b8e7b7494d02852a0dc5ccca51a2": {
     "views": []
    },
    "53c963469eee41b59479753201626f18": {
     "views": []
    },
    "5436516c280a49828c1c2f4783d9cf0e": {
     "views": []
    },
    "55a1b0b794f44ac796bc75616f65a2a1": {
     "views": [
      {
       "cell_index": 27
      }
     ]
    },
    "55ebf735de4c4b5ba2f09bc51d3593fd": {
     "views": []
    },
    "56007830e925480e94a12356ff4fb6a4": {
     "views": []
    },
    "56def8b3867843f990439b33dab3da58": {
     "views": []
    },
    "5719bb596a5649f6af38c11c3daae6e9": {
     "views": []
    },
    "572245b145014b6e91a3b5fe55e4cf78": {
     "views": []
    },
    "5728da2e2d5a4c5595e1f49723151dca": {
     "views": []
    },
    "579673c076da4626bc34a34370702bd4": {
     "views": []
    },
    "57c2148f18314c3789c3eb9122a85c86": {
     "views": []
    },
    "58066439757048b98709d3b3f99efdf8": {
     "views": []
    },
    "58108da85e9443ea8ba884e8adda699e": {
     "views": []
    },
    "583f252174d9450196cdc7c1ebab744f": {
     "views": []
    },
    "58b92095873e4d22895ee7dde1f8e09a": {
     "views": []
    },
    "58be1833a5b344fb80ec86e08e8326da": {
     "views": []
    },
    "58ee0f251d7c4aca82fdace15ff52414": {
     "views": []
    },
    "590f2f9f8dc342b594dc9e79990e641f": {
     "views": []
    },
    "593c6f6b541e49be95095be63970f335": {
     "views": []
    },
    "593d3f780c1a4180b83389afdb9fecfe": {
     "views": []
    },
    "5945f05889be40019f93a90ecd681125": {
     "views": []
    },
    "595c537ed2514006ac823b4090cf3b4b": {
     "views": [
      {
       "cell_index": 27
      }
     ]
    },
    "599cfb7471ec4fd29d835d2798145a54": {
     "views": []
    },
    "5a8d17dc45d54463a6a49bad7a7d87ac": {
     "views": []
    },
    "5bb323bde7e4454e85aa18fda291e038": {
     "views": []
    },
    "5bc5e0429c1e4863adc6bd1ff2225b6d": {
     "views": []
    },
    "5bd0fafc4ced48a5889bbcebc9275e40": {
     "views": []
    },
    "5ccf965356804bc38c94b06698a2c254": {
     "views": []
    },
    "5d1f96bedebf489cac8f820c783f7a14": {
     "views": []
    },
    "5d3fc58b96804b57aad1d67feb26c70a": {
     "views": []
    },
    "5d41872e720049198a319adc2f476276": {
     "views": []
    },
    "5d7a630da5f14cd4969b520c77bc5bc5": {
     "views": []
    },
    "5da153e0261e43af8fd1c3c5453cace0": {
     "views": []
    },
    "5dde90afb01e44888d3c92c32641d4e2": {
     "views": []
    },
    "5de2611543ff4475869ac16e9bf406fd": {
     "views": []
    },
    "5e03db9b91124e79b082f7e3e031a7d3": {
     "views": []
    },
    "5e576992ccfe4bb383c88f80d9746c1d": {
     "views": []
    },
    "5e91029c26c642a9a8c90186f3acba8e": {
     "views": []
    },
    "5ea2a6c21b9845d18f72757ca5af8340": {
     "views": []
    },
    "5ef08dc24584438c8bc6c618763f0bc8": {
     "views": []
    },
    "5f823979d2ce4c34ba18b4ca674724e4": {
     "views": [
      {
       "cell_index": 27
      }
     ]
    },
    "5fc7b070fc1a4e809da4cda3a40fc6d9": {
     "views": []
    },
    "601ca9a27da94a6489d62ac26f2805a9": {
     "views": []
    },
    "605cbb1049a4462e9292961e62e55cee": {
     "views": []
    },
    "60addd9bec3f4397b20464fdbcf66340": {
     "views": []
    },
    "60e17d6811c64dc8a69b342abe20810a": {
     "views": []
    },
    "611840434d9046488a028618769e4b86": {
     "views": []
    },
    "627ab7014bbf404ba8190be17c22e79d": {
     "views": []
    },
    "633aa1edce474560956be527039800e7": {
     "views": []
    },
    "63b6e287d1aa48efad7c8154ddd8f9c4": {
     "views": []
    },
    "63dcfdb9749345bab675db257bda4b81": {
     "views": []
    },
    "640ba8cc905a4b47ad709398cc41c4e3": {
     "views": []
    },
    "644dcff39d7c47b7b8b729d01f59bee5": {
     "views": [
      {
       "cell_index": 27
      }
     ]
    },
    "6455faf9dbc6477f8692528e6eb90c9a": {
     "views": [
      {
       "cell_index": 27
      }
     ]
    },
    "64ca99573d5b48d2ba4d5815a50e6ffe": {
     "views": []
    },
    "65d7924ba8c44d3f98a1d2f02dc883f1": {
     "views": []
    },
    "665ed2b201144d78a5a1f57894c2267c": {
     "views": [
      {
       "cell_index": 27
      }
     ]
    },
    "66742844c1cd47ddbbe9aacf2e805f36": {
     "views": []
    },
    "6678811915f14d0f86660fe90f63bd60": {
     "views": []
    },
    "66a04a5cf76e429cadbebfc527592195": {
     "views": []
    },
    "66e5c563ffe94e29bab82fdecbd1befa": {
     "views": []
    },
    "673066e0bb0b40e288e6750452c52bf6": {
     "views": []
    },
    "67ae0fb9621d488f879d0e3c458e88e9": {
     "views": []
    },
    "687702eca5f74e458c8d43447b3b9ed5": {
     "views": []
    },
    "68a4135d6f0a4bae95130539a2a44b3c": {
     "views": []
    },
    "68c3a74e9ea74718b901c812ed179f47": {
     "views": []
    },
    "694bd01e350449c2a40cd4ffc5d5a873": {
     "views": []
    },
    "6981c38c44ad4b42bfb453b36d79a0e6": {
     "views": []
    },
    "69e08ffffce9464589911cc4d2217df2": {
     "views": []
    },
    "6a28f605a5d14589907dba7440ede2fc": {
     "views": [
      {
       "cell_index": 27
      }
     ]
    },
    "6a74dc52c2a54837a64ad461e174d4e0": {
     "views": []
    },
    "6ad1e0bf705141b3b6e6ab7bd6f842ea": {
     "views": []
    },
    "6b37935db9f44e6087d1d262a61d54ac": {
     "views": []
    },
    "6b402f0f3afb4d0dad0e2fa8b71aa890": {
     "views": []
    },
    "6bc95be59a054979b142d2d4a8900cf2": {
     "views": []
    },
    "6ce0ea52c2fc4a18b1cce33933df2be4": {
     "views": []
    },
    "6d7effd6bc4c40a4b17bf9e136c5814c": {
     "views": [
      {
       "cell_index": 27
      }
     ]
    },
    "6d9a639e949c4d1d8a7826bdb9e67bb5": {
     "views": []
    },
    "6e18fafd95744f689c06c388368f1d21": {
     "views": []
    },
    "6e2bc4a1e3424e2085d0363b7f937884": {
     "views": []
    },
    "6e30c494930c439a996ba7c77bf0f721": {
     "views": []
    },
    "6e682d58cc384145adb151652f0e3d15": {
     "views": []
    },
    "6f08def65d27471b88fb14e9b63f9616": {
     "views": []
    },
    "6f20c1dc00ef4a549cd9659a532046bf": {
     "views": []
    },
    "6f605585550d4879b2f27e2fda0192be": {
     "views": []
    },
    "706dd4e39f194fbbba6e34acd320d1c3": {
     "views": []
    },
    "70f21ab685dc4c189f00a17a1810bbad": {
     "views": []
    },
    "7101b67c47a546c881fdaf9c934c0264": {
     "views": []
    },
    "71b0137b5ed741be979d1896762e5c75": {
     "views": []
    },
    "7223df458fdf4178af0b9596e231c09c": {
     "views": []
    },
    "7262519db6f94e2a9006c68c20b79d29": {
     "views": []
    },
    "72dfe79a3e52429da1cf4382e78b2144": {
     "views": [
      {
       "cell_index": 27
      }
     ]
    },
    "72e8d31709eb4e3ea28af5cb6d072ab2": {
     "views": []
    },
    "73647a1287424ee28d2fb3c4471d720c": {
     "views": []
    },
    "739c5dde541a41e1afae5ba38e4b8ee3": {
     "views": []
    },
    "74187cc424a347a5aa73b8140772ec68": {
     "views": []
    },
    "7418edf751a6486c9fae373cde30cb74": {
     "views": []
    },
    "744302ec305b4405894ed1459b9d41d0": {
     "views": []
    },
    "74dfbaa15be44021860f7ba407810255": {
     "views": []
    },
    "750a30d80fd740aaabc562c0564f02a7": {
     "views": []
    },
    "75e344508b0b45d1a9ae440549d95b1a": {
     "views": [
      {
       "cell_index": 27
      }
     ]
    },
    "766efd1cfee542d3ba068dfa1705c4eb": {
     "views": []
    },
    "7738084e8820466f9f763d49b4bf7466": {
     "views": []
    },
    "781855043f1147679745947ff30308fa": {
     "views": []
    },
    "78e2cfb79878452fa4f6e8baea88f822": {
     "views": []
    },
    "796027b3dd6b4b888553590fecd69b29": {
     "views": []
    },
    "7a302f58080c4420b138db1a9ed8103e": {
     "views": []
    },
    "7a3c362499f54884b68e951a1bcfc505": {
     "views": []
    },
    "7a4ee63f5f674454adf660bfcec97162": {
     "views": []
    },
    "7ac2c18126414013a1b2096233c88675": {
     "views": []
    },
    "7b1e3c457efa4f92ab8ff225a1a2c45e": {
     "views": []
    },
    "7b8897b4f8094eef98284f5bb1ed5d51": {
     "views": []
    },
    "7bbfd7b13dd242f0ac15b36bb437eb22": {
     "views": []
    },
    "7d3c88bc5a0f4b428174ff33d5979cfd": {
     "views": []
    },
    "7d4f53bd14d44f3f80342925f5b0b111": {
     "views": []
    },
    "7d95ca693f624336a91c3069e586ef1b": {
     "views": []
    },
    "7dcdc07b114e4ca69f75429ec042fabf": {
     "views": []
    },
    "7e79b941d7264d27a82194c322f53b80": {
     "views": []
    },
    "7f2f98bbffc0412dbb31c387407a9fed": {
     "views": [
      {
       "cell_index": 27
      }
     ]
    },
    "7f4688756da74b369366c22fd99657f4": {
     "views": []
    },
    "7f7ed281359f4a55bbe75ce841dd1453": {
     "views": []
    },
    "7fdf429182a740a097331bddad58f075": {
     "views": []
    },
    "81b312df679f4b0d8944bc680a0f517e": {
     "views": []
    },
    "82036e8fa76544ae847f2c2fc3cf72c2": {
     "views": []
    },
    "821f1041188a43a4be4bdaeb7fa2f201": {
     "views": []
    },
    "827358a9b4ce49de802df37b7b673aea": {
     "views": []
    },
    "82db288a0693422cbd846cc3cb5f0415": {
     "views": []
    },
    "82e2820c147a4dff85a01bcddbad8645": {
     "views": [
      {
       "cell_index": 27
      }
     ]
    },
    "82f795491023435e8429ea04ff4dc60a": {
     "views": []
    },
    "8317620833b84ccebc4020d90382e134": {
     "views": []
    },
    "8346e26975524082af27967748792444": {
     "views": []
    },
    "83f8ed39d0c34dce87f53f402d6ee276": {
     "views": []
    },
    "844ac22a0ebe46db84a6de7472fe9175": {
     "views": []
    },
    "849948fe6e3144e1b05c8df882534d5a": {
     "views": []
    },
    "85058c7c057043b185870da998e4be61": {
     "views": []
    },
    "85443822f3714824bec4a56d4cfed631": {
     "views": []
    },
    "8566379c7ff943b0bb0f9834ed4f0223": {
     "views": []
    },
    "85a3c6f9a0464390be7309edd36c323c": {
     "views": []
    },
    "85d7a90fbac640c9be576f338fa25c81": {
     "views": []
    },
    "85f31444b4e44e11973fd36968bf9997": {
     "views": []
    },
    "867875243ad24ff6ae39b311efb875d3": {
     "views": []
    },
    "8698bede085142a29e9284777f039c93": {
     "views": []
    },
    "86bf40f5107b4cb6942800f3930fdd41": {
     "views": []
    },
    "874c486c4ebb445583bd97369be91d9b": {
     "views": []
    },
    "87c469625bda412185f8a6c803408064": {
     "views": []
    },
    "87d4bd76591f4a9f991232ffcff3f73b": {
     "views": []
    },
    "87df3737c0fc4e848fe4100b97d193df": {
     "views": []
    },
    "886b599c537b467ab49684d2c2f8fb78": {
     "views": []
    },
    "889e19694e8043e289d8efc269eba934": {
     "views": []
    },
    "88c628983ad1475ea3a9403f6fea891c": {
     "views": []
    },
    "88c807c411d34103ba2e31b2df28b947": {
     "views": []
    },
    "895ddca8886b4c06ad1d71326ca2f0af": {
     "views": []
    },
    "899cc011a1bd4046ac798bc5838c2150": {
     "views": []
    },
    "89d0e7a3090c47df9689d8ca28914612": {
     "views": []
    },
    "89ea859f8bbd48bb94b8fa899ab69463": {
     "views": []
    },
    "8a600988321e4e489450d26dedaa061f": {
     "views": []
    },
    "8adcca252aff41a18cca5d856c17e42f": {
     "views": []
    },
    "8b2fe9e4ea1a481089f73365c5e93d8b": {
     "views": []
    },
    "8b5acd50710c4ca185037a73b7c9b25c": {
     "views": []
    },
    "8bbdba73a1454cac954103a7b1789f75": {
     "views": []
    },
    "8cffde5bdb3d4f7597131b048a013929": {
     "views": [
      {
       "cell_index": 27
      }
     ]
    },
    "8db2abcad8bc44df812d6ccf2d2d713c": {
     "views": [
      {
       "cell_index": 27
      }
     ]
    },
    "8dd5216b361c44359ba1233ee93683a4": {
     "views": [
      {
       "cell_index": 27
      }
     ]
    },
    "8e13719438804be4a0b74f73e25998cd": {
     "views": []
    },
    "8eb4ff3279fe4d43a9d8ee752c78a956": {
     "views": []
    },
    "8f577d437d4743fd9399fefcd8efc8cb": {
     "views": []
    },
    "8f8fbe8fd1914eae929069aeeac16b6d": {
     "views": []
    },
    "8f9b8b5f7dd6425a9e8e923464ab9528": {
     "views": []
    },
    "8f9e3422db114095a72948c37e98dd3e": {
     "views": []
    },
    "8fd325068289448d990b045520bad521": {
     "views": []
    },
    "9039bc40a5ad4a1c87272d82d74004e2": {
     "views": []
    },
    "90bf5e50acbb4bccad380a6e33df7e40": {
     "views": []
    },
    "91028fc3e4bc4f6c8ec752b89bcf3139": {
     "views": []
    },
    "9274175be7fb47f4945e78f96d39a7a6": {
     "views": []
    },
    "929245675b174fe5bfa102102b8db897": {
     "views": []
    },
    "92be1f7fb2794c9fb25d7bbb5cbc313d": {
     "views": []
    },
    "933904217b6045c1b654b7e5749203f5": {
     "views": [
      {
       "cell_index": 27
      }
     ]
    },
    "936bc7eb12e244c196129358a16e14bb": {
     "views": []
    },
    "936c09f4dde8440b91e9730a0212497c": {
     "views": []
    },
    "9406b6ae7f944405a0e8a22f745a39b2": {
     "views": []
    },
    "942a96eea03740719b28fcc1544284d4": {
     "views": []
    },
    "94840e902ffe4bbba5b374ff4d26f19f": {
     "views": []
    },
    "948d01f0901545d38e05f070ce4396e4": {
     "views": []
    },
    "94e2a0bc2d724f7793bb5b6d25fc7088": {
     "views": []
    },
    "94f2b877a79142839622a61a3a081c03": {
     "views": [
      {
       "cell_index": 27
      }
     ]
    },
    "94f30801a94344129363c8266bf2e1f8": {
     "views": []
    },
    "95b127e8aff34a76a813783a6a3c6369": {
     "views": []
    },
    "95d44119bf714e42b163512d9a15bbc5": {
     "views": []
    },
    "95f016e9ea9148a4a3e9f04cb8f5132d": {
     "views": []
    },
    "968e9e9de47646409744df3723e87845": {
     "views": []
    },
    "97207358fc65430aa196a7ed78b252f0": {
     "views": [
      {
       "cell_index": 27
      }
     ]
    },
    "9768d539ee4044dc94c0bd5cfb827a18": {
     "views": []
    },
    "98587702cc55456aa881daf879d2dc8d": {
     "views": []
    },
    "986c6c4e92964759903d6eb7f153df8a": {
     "views": [
      {
       "cell_index": 27
      }
     ]
    },
    "987d808edd63404f8d6f2ce42efff33a": {
     "views": []
    },
    "9895c26dfb084d509adc8abc3178bad3": {
     "views": []
    },
    "994bc7678f284a24a8700b2a69f09f8d": {
     "views": []
    },
    "99eee4e3d9c34459b12fe14cee543c28": {
     "views": []
    },
    "9a5c0b0805034141a1c96ddd57995a3c": {
     "views": []
    },
    "9a7862bb66a84b4f897924278a809ef3": {
     "views": []
    },
    "9b812f733f6a4b60ba4bf725959f7913": {
     "views": []
    },
    "9bb5ae9ff9c94fe7beece9ce43f519af": {
     "views": []
    },
    "9bfde7b437fb4e76a16a49574ea5b7ec": {
     "views": []
    },
    "9c1d14484b6d4ab3b059731f17878d14": {
     "views": []
    },
    "9c7a66ead55e48c8b92ef250a5a464b7": {
     "views": []
    },
    "9ce50a53aafe439ebb19fff363c1bfe2": {
     "views": []
    },
    "9d5e9658af264ad795f6a5f3d8c3c30f": {
     "views": [
      {
       "cell_index": 27
      }
     ]
    },
    "9d7aa65511b6482d9587609ad7898f54": {
     "views": [
      {
       "cell_index": 27
      }
     ]
    },
    "9d87f94baf454bd4b529e55e0792a696": {
     "views": []
    },
    "9de4bd9c6a7b4f3dbd401df15f0b9984": {
     "views": []
    },
    "9dfd6b08a2574ed89f0eb084dae93f73": {
     "views": []
    },
    "9e1dffcb1d9d48aaafa031da2fb5fed9": {
     "views": []
    },
    "9efb46d2bb0648f6b109189986f4f102": {
     "views": [
      {
       "cell_index": 27
      }
     ]
    },
    "9f1439500d624f769dd5e5c353c46866": {
     "views": []
    },
    "9f27ba31ccc947b598dc61aefca16a7f": {
     "views": []
    },
    "9f31a58b6e8e4c79a92cf65c497ee000": {
     "views": []
    },
    "9f43f85a0fb9464e9b7a25a85f6dba9c": {
     "views": [
      {
       "cell_index": 27
      }
     ]
    },
    "9f4970dc472946d48c14e93e7f4d4b70": {
     "views": []
    },
    "9f5dd25217a84799b72724b2a37281ea": {
     "views": []
    },
    "9faa50b44e1842e0acac301f93a129c4": {
     "views": [
      {
       "cell_index": 27
      }
     ]
    },
    "a0202917348d4c41a176d9871b65b168": {
     "views": []
    },
    "a058f021f4ca4daf8ab830d8542bf90b": {
     "views": []
    },
    "a0a2dded995543a6b68a67cd91baa252": {
     "views": []
    },
    "a0e170b3ea484fd984985d2607f90ef3": {
     "views": []
    },
    "a168e79f4cbb44c8ac7214db964de5f2": {
     "views": []
    },
    "a182b774272b48238b55e3c4d40e6152": {
     "views": []
    },
    "a1840ca22d834df2b145151baf6d8241": {
     "views": [
      {
       "cell_index": 27
      }
     ]
    },
    "a1bb2982e88e4bb1a2729cc08862a859": {
     "views": []
    },
    "a1d897a6094f483d8fc9a3638fbc179d": {
     "views": []
    },
    "a231ee00d2b7404bb0ff4e303c6b04ee": {
     "views": []
    },
    "a29fdc2987f44e69a0343a90d80c692c": {
     "views": []
    },
    "a2de3ac1f4fe423997c5612b2b21c12f": {
     "views": []
    },
    "a30ba623acec4b03923a2576bcfcbdf5": {
     "views": []
    },
    "a3357d5460c5446196229eae087bb19e": {
     "views": []
    },
    "a358d9ecd754457db178272315151fa3": {
     "views": []
    },
    "a35aec268ac3406daa7fe4563f83f948": {
     "views": []
    },
    "a38c5ed35b9945008341c2d3c0ef1470": {
     "views": []
    },
    "a39cfb47679c4d2895cda12c6d9d2975": {
     "views": [
      {
       "cell_index": 27
      }
     ]
    },
    "a55227f2fd5d42729fc4fd39a8c11914": {
     "views": []
    },
    "a65af2c8506d47ec803c15815e2ab445": {
     "views": []
    },
    "a6d2366540004eeaab760c8be196f10a": {
     "views": []
    },
    "a709f15a981a468b9471a0f672f961a7": {
     "views": []
    },
    "a7258472ad944d038cd227de28d9155f": {
     "views": []
    },
    "a72eb43242c34ef19399c52a77da8830": {
     "views": []
    },
    "a7568aed621548649e37cfa6423ca198": {
     "views": []
    },
    "a83f7f5c09a845ecb3f5823c1d178a54": {
     "views": []
    },
    "a87c651448f14ce4958d73c2f1e413e1": {
     "views": [
      {
       "cell_index": 27
      }
     ]
    },
    "a8e78f5bc64e412ab44eb9c293a7e63b": {
     "views": []
    },
    "a996d507452241e0b99aabe24eecbdd9": {
     "views": []
    },
    "a9a4b7a2159e40f8aa93a50f11048342": {
     "views": []
    },
    "a9cc48370b964a888f8414e1742d6ff2": {
     "views": []
    },
    "a9dcbe9e9a4445bf9cf8961d4c1214a6": {
     "views": []
    },
    "aab29dfddb98416ea815475d6c6a3eed": {
     "views": []
    },
    "ab89783a86bc4939a5f78957f4019553": {
     "views": []
    },
    "abaee5bb577d4a68b6898d637a4c7898": {
     "views": []
    },
    "abecb04251e04260860074b8bdad088a": {
     "views": []
    },
    "acc07b8cf2cf4d50ae1bceef2254637f": {
     "views": []
    },
    "ae3ee1ee05a2443c8bf2f79cd9e86e56": {
     "views": []
    },
    "ae4e85e2bceb4ec783dbfaaf3a174ea7": {
     "views": []
    },
    "aec1a51db98f470cb0854466f3461fc1": {
     "views": []
    },
    "afc5dccd3db64a1592ee0b2fd516b71d": {
     "views": []
    },
    "afe28f5bae8941b19717e3d7285ddc61": {
     "views": []
    },
    "b00516b171544bca9113adc99ed528a1": {
     "views": []
    },
    "b005d7f2afbe479eb02678447a079a1a": {
     "views": []
    },
    "b020ad1a7750461bb79fe4e74b9384f6": {
     "views": []
    },
    "b07d0aab375142978e1261a6a4c94b10": {
     "views": []
    },
    "b2c18df5c51649cdbdaf64092fc945b3": {
     "views": []
    },
    "b410c14ee52d4af49c08da115db85ac7": {
     "views": []
    },
    "b41220079b2b49c2ba6f59dcfe9e7757": {
     "views": []
    },
    "b445a187ca6943bbb465782a67288ce5": {
     "views": []
    },
    "b4dfb435038645dc9673ea4257fc26f3": {
     "views": []
    },
    "b5633708bd8b4abdaec77a96aca519bb": {
     "views": []
    },
    "b59b2622026d4ec582354d919e16f658": {
     "views": []
    },
    "b635f31747e14f989c7dee2ba5d5caa5": {
     "views": []
    },
    "b63dfdde813a4f019998e118b5168943": {
     "views": []
    },
    "b6c3d440986d44ed88a9471a69b70e05": {
     "views": []
    },
    "b6ee195c9bfd48ee8526b8cf0f3322b9": {
     "views": []
    },
    "b7064dd21c9949d79f40c73fee431dff": {
     "views": []
    },
    "b7537298609f4d64b8e36692b84f376c": {
     "views": []
    },
    "b755013f41fa4dce8e2bab356d85d26d": {
     "views": []
    },
    "b7cd4bfabc2e40fe9f30de702ae63716": {
     "views": []
    },
    "b7e4c497ff5c4173961ffdc3bd3821a9": {
     "views": [
      {
       "cell_index": 27
      }
     ]
    },
    "b821a13ce3e8453d85f07faccc95fee1": {
     "views": []
    },
    "b86ea9c1f1ee45a380e35485ad4e2fac": {
     "views": []
    },
    "b87f4d4805944698a0011c10d626726c": {
     "views": []
    },
    "b8e173c7c8be41df9161cbbe2c4c6c86": {
     "views": []
    },
    "b9322adcd8a241478e096aa1df086c78": {
     "views": []
    },
    "b9ad471398784b6889ce7a1d2ef5c4c0": {
     "views": []
    },
    "b9c138598fce460692cc12650375ee52": {
     "views": [
      {
       "cell_index": 27
      }
     ]
    },
    "ba146eb955754db88ba6c720e14ea030": {
     "views": []
    },
    "ba48cba009e8411ea85c7e566a47a934": {
     "views": []
    },
    "bb2793de83a64688b61a2007573a8110": {
     "views": []
    },
    "bb53891d7f514a17b497f699484c9aed": {
     "views": []
    },
    "bbe5dea9d57d466ba4e964fce9af13cf": {
     "views": [
      {
       "cell_index": 27
      }
     ]
    },
    "bbe88faf528d44a0a9083377d733d66a": {
     "views": []
    },
    "bc0525d022404722a921132e61319e46": {
     "views": []
    },
    "bc320fb35f5744cc82486b85f7a53b6f": {
     "views": []
    },
    "bc900e9562c546f9ae3630d5110080ec": {
     "views": []
    },
    "bcbf6b3ff19d4eb5aa1b8a57672d7f6f": {
     "views": []
    },
    "bccf183ccb0041e380732005f2ca2d0a": {
     "views": []
    },
    "bd0d18e3441340a7a56403c884c87a8e": {
     "views": []
    },
    "bd21e4fe92614c22a76ae515077d2d11": {
     "views": []
    },
    "bd5b05203cfd402596a6b7f076c4a8f8": {
     "views": []
    },
    "beb0c9b29d8d4d69b3147af666fa298b": {
     "views": [
      {
       "cell_index": 27
      }
     ]
    },
    "bf0d147a6a1346799c33807404fa1d46": {
     "views": []
    },
    "c03d4477fa2a423dba6311b003203f62": {
     "views": []
    },
    "c05697bcb0a247f78483e067a93f3468": {
     "views": []
    },
    "c09c3d0e94ca4e71b43352ca91b1a88a": {
     "views": []
    },
    "c0d015a0930e4ddf8f10bbace07c0b24": {
     "views": []
    },
    "c15edd79a0fd4e24b06d1aae708a38c4": {
     "views": []
    },
    "c20b6537360f4a70b923e6c5c2ba7d9b": {
     "views": []
    },
    "c21fff9912924563b28470d32f62cd44": {
     "views": []
    },
    "c2482621d28542268a2b0cbf4596da37": {
     "views": []
    },
    "c25bd0d8054b4508a6b427447b7f4576": {
     "views": []
    },
    "c301650ac4234491af84937a8633ad76": {
     "views": []
    },
    "c333a0964b1e43d0817e73cb47cf0317": {
     "views": []
    },
    "c36213b1566843ceb05b8545f7d3325c": {
     "views": []
    },
    "c37d0add29fa4f41a47caf6538ec6685": {
     "views": []
    },
    "c409a01effb945c187e08747e383463c": {
     "views": []
    },
    "c4e104a7b731463688e0a8f25cf50246": {
     "views": []
    },
    "c54f609af4e94e93b57304bc55e02eba": {
     "views": []
    },
    "c576bf6d24184f3a9f31d4f40231ce87": {
     "views": []
    },
    "c58ab80a895344008b5aadd8b8c628a4": {
     "views": []
    },
    "c5d28bea41da447e88f4cec9cfaaf197": {
     "views": []
    },
    "c74bbd55a8644defa3fcef473002a626": {
     "views": [
      {
       "cell_index": 27
      }
     ]
    },
    "c856e77b213b400599b6e026baaa4c85": {
     "views": []
    },
    "c894f9e350a1473abb28ff651443ae6f": {
     "views": []
    },
    "c8e3827ae28b45bc9768a8c3e35cc8b1": {
     "views": []
    },
    "c95bf1935b71400e98c63722b77caa08": {
     "views": []
    },
    "c9e5129d30ea4b78b846e8e92651b0e9": {
     "views": []
    },
    "ca2123c7b103485c851815cbcb4a6c17": {
     "views": []
    },
    "ca34917db02148168daf0c30ceed7466": {
     "views": []
    },
    "caa6adf7b0d243da8229c317c7482fe3": {
     "views": []
    },
    "cb924475ebb64e76964f88e830979d38": {
     "views": []
    },
    "cba1473ccaee4b2a89aba4d2b4b1e648": {
     "views": []
    },
    "cbd735eb8eb446069ee912d795ccaf14": {
     "views": []
    },
    "cc0ee37900ef40069515c79e99a9a875": {
     "views": []
    },
    "cc564bca35c743b89697f5cfd4ecccc2": {
     "views": []
    },
    "cc5a47588e2b4c8eb5deff560a0256c2": {
     "views": []
    },
    "ccc64ac3a8a84ae9815ff9e8bdc3279d": {
     "views": []
    },
    "cd02a06cec7342438f8585af6227db96": {
     "views": []
    },
    "cd236465e91d4a90a2347e6baab6ab71": {
     "views": []
    },
    "cd9a0aa1700a4407ab445053029dca18": {
     "views": []
    },
    "cdd6c6a945a74c568d611b42e4ba8a1a": {
     "views": []
    },
    "cdf0323ea1324c0b969f49176ecee1c2": {
     "views": []
    },
    "ce3a0e82e80d48b9b2658e0c52196644": {
     "views": [
      {
       "cell_index": 27
      }
     ]
    },
    "ce6ad0459f654b6785b3a71ccdf05063": {
     "views": []
    },
    "ce8d3cd3535b459c823da2f49f3cc526": {
     "views": [
      {
       "cell_index": 27
      }
     ]
    },
    "cf8c8f791d0541ffa4f635bb07389292": {
     "views": []
    },
    "cfed29ab68f244e996b0d571c31020ec": {
     "views": []
    },
    "d034cbd7b06a448f98b3f11b68520c08": {
     "views": []
    },
    "d13135f5facc4c5996549a85974145a1": {
     "views": []
    },
    "d18c7c17fa93493ebc622fe3d2c0d44e": {
     "views": []
    },
    "d23b743d7d0342aca257780f2df758d6": {
     "views": []
    },
    "d2fe43f4a2064078a6c8da47f8afb903": {
     "views": []
    },
    "d34f626ca035456bb9e0c9ad2a9dced1": {
     "views": []
    },
    "d359911be08f4342b20e86a954cd060f": {
     "views": []
    },
    "d4d76a1c09a342e79cd6733886626459": {
     "views": []
    },
    "d58d12f54e2b426fba4ca611b0ffc68f": {
     "views": []
    },
    "d5e2a77d429d4ca0969e1edec5dc2690": {
     "views": []
    },
    "d5f4bbe3242245f0a2c3b18a284e55f8": {
     "views": []
    },
    "d6c325f3069a4186b3022619f4280c37": {
     "views": []
    },
    "d6d46520bbcf495bad20bcd266fe1357": {
     "views": []
    },
    "d72b7c8058324d1bb56b6574090ccda6": {
     "views": []
    },
    "d73bbb49a33d49e187200fa7c8f23aaa": {
     "views": []
    },
    "d80e4f8eb9a54aef8b746e38d8c3ef1b": {
     "views": []
    },
    "d819255bc7104ee8b9466b149dba5bff": {
     "views": []
    },
    "d819fcff913441d39a41982518127af5": {
     "views": []
    },
    "d8295021db704345a63c9ff9d692b761": {
     "views": []
    },
    "d83329fe36014f85bb5d0247d3ae4472": {
     "views": [
      {
       "cell_index": 27
      }
     ]
    },
    "d88a0305cc224037a14e5040ed8e13af": {
     "views": []
    },
    "d89b81d63c6048ff800d3380bf921ac0": {
     "views": []
    },
    "d8d8667ab50944e4b066d648aa3c8e2a": {
     "views": []
    },
    "d8fd2b5ef6e24628b2b5102d3cd375f3": {
     "views": []
    },
    "d9579a126d5f44a3bc0a731e0ad55f24": {
     "views": []
    },
    "da51bd4d4fd848699919e3973b2fabc2": {
     "views": []
    },
    "dba5a5a8fec346b2bcdc88f4ce294550": {
     "views": []
    },
    "dc201c38ac434cb8a424553f1fa5a791": {
     "views": []
    },
    "dc631df85ae84ffc964acd7a76e399ce": {
     "views": []
    },
    "dc7376a2272e44179f237e5a1c7f6a49": {
     "views": [
      {
       "cell_index": 27
      }
     ]
    },
    "dc8a45203a0a457c927f582f9d576e5d": {
     "views": []
    },
    "dcc0e1ea9e994fc0827d9d7f648e4ad9": {
     "views": []
    },
    "dce6f4cb98094ee1b06c0dd0ff8f488a": {
     "views": []
    },
    "dcfc688de41b4ed7a8f89ae84089d5c0": {
     "views": []
    },
    "dd486b2cbda84c83ace5ceaee8a30ff8": {
     "views": []
    },
    "ddcfbf7b97714357920ba9705e8d4ab0": {
     "views": []
    },
    "ddd4485714564c65b70bd865783076af": {
     "views": []
    },
    "de7738417f1040b1a06ad25e485eb91d": {
     "views": []
    },
    "df4cada92e484fd4ae75026eaf1845e2": {
     "views": []
    },
    "dfb3707b4a01441c8a0a1751425b8e1c": {
     "views": []
    },
    "e03b701a52d948aab86117c928cbe275": {
     "views": []
    },
    "e0a614fe085c4d3c835c78d6ada60a40": {
     "views": []
    },
    "e138e0c7d5a4471d99bbdac50de00fe1": {
     "views": []
    },
    "e154289ce1774450a9a51ac45a1d5725": {
     "views": []
    },
    "e25c1d2c78c94c9a805920df36268508": {
     "views": []
    },
    "e281172ebc7f48b5ae6545b16da79477": {
     "views": []
    },
    "e2862bd7efac4bc0b23532705f5e46c4": {
     "views": []
    },
    "e2cd9bb21f254e08885f43fd6e968879": {
     "views": []
    },
    "e2f4acecaf194351b8e67439440a9966": {
     "views": []
    },
    "e3198c124ac841a79db062efa81f6812": {
     "views": []
    },
    "e36f3009f61a4f5ba047562e70330add": {
     "views": []
    },
    "e3765274f28b4a55a82d9115ded151de": {
     "views": []
    },
    "e37e3fba3b40413180cd30e594bf62bd": {
     "views": []
    },
    "e3f9760867fa410fbdc4611aef1cee18": {
     "views": []
    },
    "e4331c134ab24f9cae99d476dfa04c89": {
     "views": []
    },
    "e46db59e121045169a1ea5313b1748b7": {
     "views": []
    },
    "e475d1e00f9d48edadac886fb53c2a20": {
     "views": []
    },
    "e48449d21c2d4360b851169468066470": {
     "views": []
    },
    "e4c26b8a42b54e959b276a174f2c2795": {
     "views": []
    },
    "e4e55dabd92f4c17b78ed4b6881842e8": {
     "views": []
    },
    "e4e5dd3dc28d4aa3ab8f8f7c4a475115": {
     "views": [
      {
       "cell_index": 27
      }
     ]
    },
    "e516fd8ebfc6478c95130d6edec77c88": {
     "views": []
    },
    "e5afb8d0e8a94c4dac18f2bbf1d042ce": {
     "views": []
    },
    "e5bcb13bf2e94afc857bcbb37f6d4d87": {
     "views": []
    },
    "e64ab85e80184b70b69d01a9c6851943": {
     "views": [
      {
       "cell_index": 27
      }
     ]
    },
    "e66b26fb788944ba83b7511d79b85dc5": {
     "views": []
    },
    "e73434cfcc854429ac27ddc9c9b07f5e": {
     "views": []
    },
    "e7a8244ea5a84493b3b5bdeaf92a50b4": {
     "views": []
    },
    "e81ed2c281df4f06bc1d4e6b67c574b4": {
     "views": []
    },
    "e85ff7ccdc034c268df9cb0e95e9b850": {
     "views": []
    },
    "e8a198bff55a437eab56887563cd9a6e": {
     "views": []
    },
    "e92ede4cfc96436b84e63809bcb22385": {
     "views": []
    },
    "e949474f6aa64c5dada603476ea6cabd": {
     "views": []
    },
    "e98e59c3156c49c1bb27be7a478c3654": {
     "views": []
    },
    "e9ea6f88d1334fbcab7f9c9a11cf4a50": {
     "views": []
    },
    "ea09e5da878c42f2b533856dc3149e3e": {
     "views": []
    },
    "ea74036074054593b1cc31fec030d2a2": {
     "views": []
    },
    "ea8d97fb8c0d499095cceb133e4d7d9c": {
     "views": []
    },
    "eafbea5bce1f4ab4bcbb0aa08598af0f": {
     "views": []
    },
    "ec01e6cdc5a54f068f1bb033415b4a06": {
     "views": []
    },
    "ec2d1f18f2e841b184f5d4cd15979d46": {
     "views": []
    },
    "ec923af478b94ad99bdfd3257f48cb06": {
     "views": []
    },
    "ed02e2272e844678979bd6a3c00f5cb3": {
     "views": []
    },
    "ed80296f5f5e42e694dfc5cc7fd3acee": {
     "views": []
    },
    "ee4df451ca9d4ed48044b25b19dc3f3f": {
     "views": []
    },
    "ee77219007884e089fc3c1479855c469": {
     "views": []
    },
    "ef372681937b4e90a04b0d530b217edb": {
     "views": []
    },
    "ef452efe39d34db6b4785cb816865ca3": {
     "views": []
    },
    "efcb07343f244ff084ea49dbc7e3d811": {
     "views": []
    },
    "f083a8e4c8574fe08f5eb0aac66c1e71": {
     "views": []
    },
    "f09d7c07bec64811805db588515af7f6": {
     "views": []
    },
    "f0ef654c93974add9410a6e243e0fbf2": {
     "views": []
    },
    "f20d7c2fcf144f5da875c6af5ffd35cb": {
     "views": []
    },
    "f234eb38076146b9a640f44b7ef30892": {
     "views": []
    },
    "f24d087598434ed1bb7f5ae3b0b4647a": {
     "views": []
    },
    "f262055f3f1b48029f9e2089f752b0b8": {
     "views": [
      {
       "cell_index": 27
      }
     ]
    },
    "f2d40a380f884b1b95992ccc7c3df04e": {
     "views": []
    },
    "f2e2e2e5177542aa9e5ca3d69508fb89": {
     "views": []
    },
    "f31914f694384908bec466fc2945f1c7": {
     "views": []
    },
    "f31cbea99df94f2281044c369ef1962d": {
     "views": []
    },
    "f32c6c5551f540709f7c7cd9078f1aad": {
     "views": []
    },
    "f337eb824d654f0fbd688e2db3c5bf7b": {
     "views": []
    },
    "f36f776a7767495cbda2f649c2b3dd48": {
     "views": []
    },
    "f3cef080253c46989413aad84b478199": {
     "views": []
    },
    "f3df35ce53e0466e81a48234b36a1430": {
     "views": [
      {
       "cell_index": 27
      }
     ]
    },
    "f3fa0f8a41ab4ede9c4e20f16e35237d": {
     "views": []
    },
    "f42e4f996f254a1bb7fe6f4dfc49aba3": {
     "views": []
    },
    "f437babcddc64a8aa238fc7013619fbb": {
     "views": []
    },
    "f44a5661ed1f4b5d97849cf4bb5e862e": {
     "views": []
    },
    "f44d24e28afa475da40628b4fd936922": {
     "views": []
    },
    "f44d5e6e993745b8b12891d1f3af3dc3": {
     "views": []
    },
    "f457cb5e76be46a29d9f49ba0dc135f1": {
     "views": []
    },
    "f4691cbe84534ef6b7d3fca530cf1704": {
     "views": []
    },
    "f4ca26fbbdbf49dda5d1b8affdecfa3e": {
     "views": []
    },
    "f54998361fe84a8a95b2607fbe367d52": {
     "views": []
    },
    "f54bdb1d3bfb47af9e7aaabb4ed12eff": {
     "views": []
    },
    "f54c28b82f7d498b83bf6908e19b6d1b": {
     "views": []
    },
    "f5cc05fcee4d4c3e80163c6e9c072b6e": {
     "views": []
    },
    "f621b91a209e4997a47cf458f8a5027f": {
     "views": []
    },
    "f665bf176eb443f6867cef8fdd79b4e5": {
     "views": []
    },
    "f6e27824f5e84bd8b4671e9eb030b20f": {
     "views": []
    },
    "f6f162ac0811434ea95875f6335bd484": {
     "views": []
    },
    "f6f629e6fb164c97acdc50c25d1354ee": {
     "views": []
    },
    "f71adee125f74ddd8302aa2796646d67": {
     "views": []
    },
    "f731d66445aa4543800a6bb3e9267936": {
     "views": []
    },
    "f8f8e8c27fff45afa309a849d1655e29": {
     "views": []
    },
    "f913752b9e86487cb197f894d667d432": {
     "views": []
    },
    "f92cde8d24064ae5afd4cd577eaa895a": {
     "views": []
    },
    "f944674b7ca345a582de627055614499": {
     "views": []
    },
    "f9458080ed534d25856c67ce8f93d5a1": {
     "views": [
      {
       "cell_index": 27
      }
     ]
    },
    "f986f98d05dd4b9fa8a3c1111c1cea9b": {
     "views": []
    },
    "f9f7bc097f654e41b68f2d849c99a1a1": {
     "views": []
    },
    "fa00693458bc45669e2ed4ee536e98d6": {
     "views": []
    },
    "fa2f219e60ff453da3842df62a371813": {
     "views": []
    },
    "fa6cbfe76fff48848dc08a9344de84ff": {
     "views": []
    },
    "fb3b6d5e405d4e1b87e82bcc8ae3df0f": {
     "views": []
    },
    "fbe27ee7dc93467292b67f68935ae6f0": {
     "views": []
    },
    "fc494b2bcade4c3a890f08386dd8aab0": {
     "views": []
    },
    "fd98ac9b76cc44f09bc3b684caf1882d": {
     "views": []
    },
    "feb9bf5d951c40d4a87d57a4de5e819a": {
     "views": []
    },
    "fedfd679505d409fa74ccaa52b87fcce": {
     "views": []
    },
    "fef0278d4386407f96c44b4affe437b8": {
     "views": []
    },
    "ff29b06d50b048d6bbcbdb5a8665dcde": {
     "views": []
    },
    "ff3c868e31c0430dbf5b85415da9a24b": {
     "views": []
    },
    "ff8a91a101044f4fba19cdfffc39e0d3": {
     "views": []
    },
    "ffbca26ec77b492bbbda1be40b044d8e": {
     "views": []
    },
    "fff5f5bc334942bd851ac24f782f4f3c": {
     "views": []
    }
   },
   "version": "1.1.1"
  }
 },
 "nbformat": 4,
 "nbformat_minor": 4
}
